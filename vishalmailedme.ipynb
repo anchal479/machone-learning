{
 "cells": [
  {
   "cell_type": "code",
   "execution_count": 1,
   "metadata": {},
   "outputs": [],
   "source": [
    "import pandas as pd\n",
    "import numpy as np\n",
    "import seaborn as sns\n",
    "import matplotlib.pyplot as plt\n",
    "%matplotlib inline"
   ]
  },
  {
   "cell_type": "code",
   "execution_count": 2,
   "metadata": {},
   "outputs": [],
   "source": [
    "df_train=pd.read_csv(\"train.csv\")\n",
    "df_test=pd.read_csv(\"test.csv\")\n"
   ]
  },
  {
   "cell_type": "code",
   "execution_count": 3,
   "metadata": {},
   "outputs": [
    {
     "data": {
      "text/plain": [
       "-50000    187141\n",
       " 50000     12382\n",
       "Name: income_level, dtype: int64"
      ]
     },
     "execution_count": 3,
     "metadata": {},
     "output_type": "execute_result"
    }
   ],
   "source": [
    "df_train['income_level'].value_counts()"
   ]
  },
  {
   "cell_type": "code",
   "execution_count": 4,
   "metadata": {},
   "outputs": [
    {
     "name": "stdout",
     "output_type": "stream",
     "text": [
      "<class 'pandas.core.frame.DataFrame'>\n",
      "RangeIndex: 199523 entries, 0 to 199522\n",
      "Data columns (total 41 columns):\n",
      "age                                 199523 non-null int64\n",
      "class_of_worker                     199523 non-null object\n",
      "industry_code                       199523 non-null int64\n",
      "occupation_code                     199523 non-null int64\n",
      "education                           199523 non-null object\n",
      "wage_per_hour                       199523 non-null int64\n",
      "enrolled_in_edu_inst_lastwk         199523 non-null object\n",
      "marital_status                      199523 non-null object\n",
      "major_industry_code                 199523 non-null object\n",
      "major_occupation_code               199523 non-null object\n",
      "race                                199523 non-null object\n",
      "hispanic_origin                     198649 non-null object\n",
      "sex                                 199523 non-null object\n",
      "member_of_labor_union               199523 non-null object\n",
      "reason_for_unemployment             199523 non-null object\n",
      "full_parttime_employment_stat       199523 non-null object\n",
      "capital_gains                       199523 non-null int64\n",
      "capital_losses                      199523 non-null int64\n",
      "dividend_from_Stocks                199523 non-null int64\n",
      "tax_filer_status                    199523 non-null object\n",
      "region_of_previous_residence        199523 non-null object\n",
      "state_of_previous_residence         198815 non-null object\n",
      "d_household_family_stat             199523 non-null object\n",
      "d_household_summary                 199523 non-null object\n",
      "migration_msa                       99827 non-null object\n",
      "migration_reg                       99827 non-null object\n",
      "migration_within_reg                99827 non-null object\n",
      "live_1_year_ago                     199523 non-null object\n",
      "migration_sunbelt                   99827 non-null object\n",
      "num_person_Worked_employer          199523 non-null int64\n",
      "family_members_under_18             199523 non-null object\n",
      "country_father                      192810 non-null object\n",
      "country_mother                      193404 non-null object\n",
      "country_self                        196130 non-null object\n",
      "citizenship                         199523 non-null object\n",
      "business_or_self_employed           199523 non-null int64\n",
      "fill_questionnaire_veteran_admin    199523 non-null object\n",
      "veterans_benefits                   199523 non-null int64\n",
      "weeks_worked_in_year                199523 non-null int64\n",
      "year                                199523 non-null int64\n",
      "income_level                        199523 non-null int64\n",
      "dtypes: int64(13), object(28)\n",
      "memory usage: 62.4+ MB\n"
     ]
    }
   ],
   "source": [
    "df_train.info()"
   ]
  },
  {
   "cell_type": "code",
   "execution_count": 5,
   "metadata": {},
   "outputs": [],
   "source": [
    "df_train['income_level']=df_train['income_level'].apply(lambda x: 1 if x==50000 else 0)\n",
    "df_test['income_level']=df_test['income_level'].apply(lambda x: 1 if x==50000 else 0)\n"
   ]
  },
  {
   "cell_type": "code",
   "execution_count": 6,
   "metadata": {},
   "outputs": [
    {
     "data": {
      "text/plain": [
       "0    187141\n",
       "1     12382\n",
       "Name: income_level, dtype: int64"
      ]
     },
     "execution_count": 6,
     "metadata": {},
     "output_type": "execute_result"
    }
   ],
   "source": [
    "df_train['income_level'].value_counts()"
   ]
  },
  {
   "cell_type": "code",
   "execution_count": 7,
   "metadata": {},
   "outputs": [
    {
     "data": {
      "text/plain": [
       "93.794199165008536"
      ]
     },
     "execution_count": 7,
     "metadata": {},
     "output_type": "execute_result"
    }
   ],
   "source": [
    "(df_train['income_level'].value_counts()[0]/df_train.shape[0]) *100"
   ]
  },
  {
   "cell_type": "code",
   "execution_count": 8,
   "metadata": {},
   "outputs": [
    {
     "data": {
      "text/plain": [
       "<matplotlib.axes._subplots.AxesSubplot at 0x1f834880b38>"
      ]
     },
     "execution_count": 8,
     "metadata": {},
     "output_type": "execute_result"
    },
    {
     "data": {
      "image/png": "[encoded data removed]",
      "text/plain": [
       "<matplotlib.figure.Figure at 0x1f834862cc0>"
      ]
     },
     "metadata": {},
     "output_type": "display_data"
    }
   ],
   "source": [
    "df_train['age'].plot(kind=\"hist\",bins=200)"
   ]
  },
  {
   "cell_type": "code",
   "execution_count": 9,
   "metadata": {},
   "outputs": [
    {
     "data": {
      "text/plain": [
       "<matplotlib.axes._subplots.AxesSubplot at 0x1f834941978>"
      ]
     },
     "execution_count": 9,
     "metadata": {},
     "output_type": "execute_result"
    },
    {
     "data": {
      "image/png": "[encoded data removed]",
      "text/plain": [
       "<matplotlib.figure.Figure at 0x1f834905fd0>"
      ]
     },
     "metadata": {},
     "output_type": "display_data"
    }
   ],
   "source": [
    "df_train['capital_losses'].plot(kind=\"hist\",bins=10)"
   ]
  },
  {
   "cell_type": "code",
   "execution_count": 10,
   "metadata": {},
   "outputs": [
    {
     "data": {
      "image/png": "[encoded data removed]",
      "text/plain": [
       "<matplotlib.figure.Figure at 0x1f83495dba8>"
      ]
     },
     "metadata": {},
     "output_type": "display_data"
    }
   ],
   "source": [
    "colors={0:'b',1:'r'}\n",
    "plt.scatter(df_train[\"age\"],df_train[\"wage_per_hour\"],c=df_train['income_level'].apply(lambda x: colors[x]))\n",
    "#plt.scatter(df_train[\"age\"],df_train[\"wage_per_hour\"],color='red', label='1')\n",
    "plt.show()"
   ]
  },
  {
   "cell_type": "code",
   "execution_count": 11,
   "metadata": {},
   "outputs": [
    {
     "data": {
      "text/plain": [
       "<seaborn.axisgrid.FacetGrid at 0x1f836f1f828>"
      ]
     },
     "execution_count": 11,
     "metadata": {},
     "output_type": "execute_result"
    },
    {
     "data": {
      "image/png": "[encoded data removed]",
      "text/plain": [
       "<matplotlib.figure.Figure at 0x1f836f1f5c0>"
      ]
     },
     "metadata": {},
     "output_type": "display_data"
    }
   ],
   "source": [
    "sns.lmplot(\"age\",\"wage_per_hour\",data=df_train,hue=\"income_level\")"
   ]
  },
  {
   "cell_type": "code",
   "execution_count": 12,
   "metadata": {},
   "outputs": [
    {
     "data": {
      "image/png": "[encoded data removed]",
      "text/plain": [
       "<matplotlib.figure.Figure at 0x1f836736e10>"
      ]
     },
     "metadata": {},
     "output_type": "display_data"
    }
   ],
   "source": [
    "fig,ax=plt.subplots(1,1,figsize=(10,3))\n",
    "\n",
    "df_train['class_of_worker'].value_counts().plot(kind='barh',ax=ax,color='#D95B43')\n",
    "\n",
    "title='Count of Each class_of_worker'\n",
    "ax.set_title(title,fontsize= 10,color='Black')\n",
    "\n",
    "plt.xlabel('Count',fontsize= 10,color='Black')\n",
    "plt.ylabel('class_of_worker',fontsize= 10,color='Black')\n",
    "\n",
    "plt.show()\n",
    "fig.tight_layout()\n",
    "\n",
    "\n"
   ]
  },
  {
   "cell_type": "code",
   "execution_count": null,
   "metadata": {
    "collapsed": true
   },
   "outputs": [],
   "source": []
  },
  {
   "cell_type": "code",
   "execution_count": 13,
   "metadata": {
    "scrolled": false
   },
   "outputs": [
    {
     "data": {
      "image/png": "[encoded data removed]",
      "text/plain": [
       "<matplotlib.figure.Figure at 0x1f83673f7b8>"
      ]
     },
     "metadata": {},
     "output_type": "display_data"
    }
   ],
   "source": [
    "d=pd.crosstab(index=df_train[\"class_of_worker\"], columns=df_train[\"income_level\"])\n",
    "\n",
    "fig,ax=plt.subplots(1,1,figsize=(10,10))\n",
    "\n",
    "d.plot(kind=\"barh\",ax=ax,stacked=False,fontsize=15).legend(fontsize='15',title='income_level')\n",
    "\n",
    "title='Income Level of different Class of worker'\n",
    "ax.set_title(title,fontsize= 20,color='Black')\n",
    "\n",
    "plt.xlabel('Count',fontsize= 20,color='Black')\n",
    "plt.ylabel('class_of_worker',fontsize= 20,color='Black')\n",
    "\n",
    "plt.show()\n",
    "fig.tight_layout()"
   ]
  },
  {
   "cell_type": "code",
   "execution_count": 14,
   "metadata": {},
   "outputs": [
    {
     "data": {
      "image/png": "[encoded data removed]",
      "text/plain": [
       "<matplotlib.figure.Figure at 0x1f83658d668>"
      ]
     },
     "metadata": {},
     "output_type": "display_data"
    }
   ],
   "source": [
    "d=pd.crosstab(index=df_train[\"education\"], columns=df_train[\"income_level\"])\n",
    "\n",
    "fig,ax=plt.subplots(1,1,figsize=(10,10))\n",
    "\n",
    "d.plot(kind=\"barh\",ax=ax,stacked=False,fontsize=15).legend(fontsize='15',title='income_level')\n",
    "\n",
    "title='Income Level of different Education'\n",
    "ax.set_title(title,fontsize= 20,color='Black')\n",
    "\n",
    "plt.xlabel('Count',fontsize= 20,color='Black')\n",
    "plt.ylabel('education',fontsize= 20,color='Black')\n",
    "\n",
    "plt.show()\n",
    "fig.tight_layout()"
   ]
  },
  {
   "cell_type": "code",
   "execution_count": 15,
   "metadata": {},
   "outputs": [
    {
     "data": {
      "text/html": [
       "\n",
       "        <style  type=\"text/css\" >\n",
       "        \n",
       "        \n",
       "            #T_6912c300_05a9_11e8_be87_c85b764c25bcrow0_col0 {\n",
       "            \n",
       "                background-color:  #b40426;\n",
       "            \n",
       "            }\n",
       "        \n",
       "            #T_6912c300_05a9_11e8_be87_c85b764c25bcrow0_col1 {\n",
       "            \n",
       "                background-color:  #6c8ff1;\n",
       "            \n",
       "            }\n",
       "        \n",
       "            #T_6912c300_05a9_11e8_be87_c85b764c25bcrow0_col2 {\n",
       "            \n",
       "                background-color:  #5f7fe8;\n",
       "            \n",
       "            }\n",
       "        \n",
       "            #T_6912c300_05a9_11e8_be87_c85b764c25bcrow0_col3 {\n",
       "            \n",
       "                background-color:  #465ecf;\n",
       "            \n",
       "            }\n",
       "        \n",
       "            #T_6912c300_05a9_11e8_be87_c85b764c25bcrow0_col4 {\n",
       "            \n",
       "                background-color:  #4b64d5;\n",
       "            \n",
       "            }\n",
       "        \n",
       "            #T_6912c300_05a9_11e8_be87_c85b764c25bcrow0_col5 {\n",
       "            \n",
       "                background-color:  #4e68d8;\n",
       "            \n",
       "            }\n",
       "        \n",
       "            #T_6912c300_05a9_11e8_be87_c85b764c25bcrow0_col6 {\n",
       "            \n",
       "                background-color:  #5b7ae5;\n",
       "            \n",
       "            }\n",
       "        \n",
       "            #T_6912c300_05a9_11e8_be87_c85b764c25bcrow0_col7 {\n",
       "            \n",
       "                background-color:  #6788ee;\n",
       "            \n",
       "            }\n",
       "        \n",
       "            #T_6912c300_05a9_11e8_be87_c85b764c25bcrow0_col8 {\n",
       "            \n",
       "                background-color:  #3b4cc0;\n",
       "            \n",
       "            }\n",
       "        \n",
       "            #T_6912c300_05a9_11e8_be87_c85b764c25bcrow0_col9 {\n",
       "            \n",
       "                background-color:  #f7b599;\n",
       "            \n",
       "            }\n",
       "        \n",
       "            #T_6912c300_05a9_11e8_be87_c85b764c25bcrow0_col10 {\n",
       "            \n",
       "                background-color:  #7ea1fa;\n",
       "            \n",
       "            }\n",
       "        \n",
       "            #T_6912c300_05a9_11e8_be87_c85b764c25bcrow0_col11 {\n",
       "            \n",
       "                background-color:  #3c4ec2;\n",
       "            \n",
       "            }\n",
       "        \n",
       "            #T_6912c300_05a9_11e8_be87_c85b764c25bcrow0_col12 {\n",
       "            \n",
       "                background-color:  #6687ed;\n",
       "            \n",
       "            }\n",
       "        \n",
       "            #T_6912c300_05a9_11e8_be87_c85b764c25bcrow1_col0 {\n",
       "            \n",
       "                background-color:  #6b8df0;\n",
       "            \n",
       "            }\n",
       "        \n",
       "            #T_6912c300_05a9_11e8_be87_c85b764c25bcrow1_col1 {\n",
       "            \n",
       "                background-color:  #b40426;\n",
       "            \n",
       "            }\n",
       "        \n",
       "            #T_6912c300_05a9_11e8_be87_c85b764c25bcrow1_col2 {\n",
       "            \n",
       "                background-color:  #ebd3c6;\n",
       "            \n",
       "            }\n",
       "        \n",
       "            #T_6912c300_05a9_11e8_be87_c85b764c25bcrow1_col3 {\n",
       "            \n",
       "                background-color:  #6e90f2;\n",
       "            \n",
       "            }\n",
       "        \n",
       "            #T_6912c300_05a9_11e8_be87_c85b764c25bcrow1_col4 {\n",
       "            \n",
       "                background-color:  #4e68d8;\n",
       "            \n",
       "            }\n",
       "        \n",
       "            #T_6912c300_05a9_11e8_be87_c85b764c25bcrow1_col5 {\n",
       "            \n",
       "                background-color:  #4f69d9;\n",
       "            \n",
       "            }\n",
       "        \n",
       "            #T_6912c300_05a9_11e8_be87_c85b764c25bcrow1_col6 {\n",
       "            \n",
       "                background-color:  #3d50c3;\n",
       "            \n",
       "            }\n",
       "        \n",
       "            #T_6912c300_05a9_11e8_be87_c85b764c25bcrow1_col7 {\n",
       "            \n",
       "                background-color:  #f6bfa6;\n",
       "            \n",
       "            }\n",
       "        \n",
       "            #T_6912c300_05a9_11e8_be87_c85b764c25bcrow1_col8 {\n",
       "            \n",
       "                background-color:  #8db0fe;\n",
       "            \n",
       "            }\n",
       "        \n",
       "            #T_6912c300_05a9_11e8_be87_c85b764c25bcrow1_col9 {\n",
       "            \n",
       "                background-color:  #d6dce4;\n",
       "            \n",
       "            }\n",
       "        \n",
       "            #T_6912c300_05a9_11e8_be87_c85b764c25bcrow1_col10 {\n",
       "            \n",
       "                background-color:  #f4987a;\n",
       "            \n",
       "            }\n",
       "        \n",
       "            #T_6912c300_05a9_11e8_be87_c85b764c25bcrow1_col11 {\n",
       "            \n",
       "                background-color:  #3b4cc0;\n",
       "            \n",
       "            }\n",
       "        \n",
       "            #T_6912c300_05a9_11e8_be87_c85b764c25bcrow1_col12 {\n",
       "            \n",
       "                background-color:  #799cf8;\n",
       "            \n",
       "            }\n",
       "        \n",
       "            #T_6912c300_05a9_11e8_be87_c85b764c25bcrow2_col0 {\n",
       "            \n",
       "                background-color:  #6687ed;\n",
       "            \n",
       "            }\n",
       "        \n",
       "            #T_6912c300_05a9_11e8_be87_c85b764c25bcrow2_col1 {\n",
       "            \n",
       "                background-color:  #eed0c0;\n",
       "            \n",
       "            }\n",
       "        \n",
       "            #T_6912c300_05a9_11e8_be87_c85b764c25bcrow2_col2 {\n",
       "            \n",
       "                background-color:  #b40426;\n",
       "            \n",
       "            }\n",
       "        \n",
       "            #T_6912c300_05a9_11e8_be87_c85b764c25bcrow2_col3 {\n",
       "            \n",
       "                background-color:  #81a4fb;\n",
       "            \n",
       "            }\n",
       "        \n",
       "            #T_6912c300_05a9_11e8_be87_c85b764c25bcrow2_col4 {\n",
       "            \n",
       "                background-color:  #4358cb;\n",
       "            \n",
       "            }\n",
       "        \n",
       "            #T_6912c300_05a9_11e8_be87_c85b764c25bcrow2_col5 {\n",
       "            \n",
       "                background-color:  #4f69d9;\n",
       "            \n",
       "            }\n",
       "        \n",
       "            #T_6912c300_05a9_11e8_be87_c85b764c25bcrow2_col6 {\n",
       "            \n",
       "                background-color:  #3b4cc0;\n",
       "            \n",
       "            }\n",
       "        \n",
       "            #T_6912c300_05a9_11e8_be87_c85b764c25bcrow2_col7 {\n",
       "            \n",
       "                background-color:  #e4d9d2;\n",
       "            \n",
       "            }\n",
       "        \n",
       "            #T_6912c300_05a9_11e8_be87_c85b764c25bcrow2_col8 {\n",
       "            \n",
       "                background-color:  #8caffe;\n",
       "            \n",
       "            }\n",
       "        \n",
       "            #T_6912c300_05a9_11e8_be87_c85b764c25bcrow2_col9 {\n",
       "            \n",
       "                background-color:  #d1dae9;\n",
       "            \n",
       "            }\n",
       "        \n",
       "            #T_6912c300_05a9_11e8_be87_c85b764c25bcrow2_col10 {\n",
       "            \n",
       "                background-color:  #f7b89c;\n",
       "            \n",
       "            }\n",
       "        \n",
       "            #T_6912c300_05a9_11e8_be87_c85b764c25bcrow2_col11 {\n",
       "            \n",
       "                background-color:  #4055c8;\n",
       "            \n",
       "            }\n",
       "        \n",
       "            #T_6912c300_05a9_11e8_be87_c85b764c25bcrow2_col12 {\n",
       "            \n",
       "                background-color:  #465ecf;\n",
       "            \n",
       "            }\n",
       "        \n",
       "            #T_6912c300_05a9_11e8_be87_c85b764c25bcrow3_col0 {\n",
       "            \n",
       "                background-color:  #465ecf;\n",
       "            \n",
       "            }\n",
       "        \n",
       "            #T_6912c300_05a9_11e8_be87_c85b764c25bcrow3_col1 {\n",
       "            \n",
       "                background-color:  #7093f3;\n",
       "            \n",
       "            }\n",
       "        \n",
       "            #T_6912c300_05a9_11e8_be87_c85b764c25bcrow3_col2 {\n",
       "            \n",
       "                background-color:  #7a9df8;\n",
       "            \n",
       "            }\n",
       "        \n",
       "            #T_6912c300_05a9_11e8_be87_c85b764c25bcrow3_col3 {\n",
       "            \n",
       "                background-color:  #b40426;\n",
       "            \n",
       "            }\n",
       "        \n",
       "            #T_6912c300_05a9_11e8_be87_c85b764c25bcrow3_col4 {\n",
       "            \n",
       "                background-color:  #3c4ec2;\n",
       "            \n",
       "            }\n",
       "        \n",
       "            #T_6912c300_05a9_11e8_be87_c85b764c25bcrow3_col5 {\n",
       "            \n",
       "                background-color:  #3f53c6;\n",
       "            \n",
       "            }\n",
       "        \n",
       "            #T_6912c300_05a9_11e8_be87_c85b764c25bcrow3_col6 {\n",
       "            \n",
       "                background-color:  #3b4cc0;\n",
       "            \n",
       "            }\n",
       "        \n",
       "            #T_6912c300_05a9_11e8_be87_c85b764c25bcrow3_col7 {\n",
       "            \n",
       "                background-color:  #7a9df8;\n",
       "            \n",
       "            }\n",
       "        \n",
       "            #T_6912c300_05a9_11e8_be87_c85b764c25bcrow3_col8 {\n",
       "            \n",
       "                background-color:  #4c66d6;\n",
       "            \n",
       "            }\n",
       "        \n",
       "            #T_6912c300_05a9_11e8_be87_c85b764c25bcrow3_col9 {\n",
       "            \n",
       "                background-color:  #5f7fe8;\n",
       "            \n",
       "            }\n",
       "        \n",
       "            #T_6912c300_05a9_11e8_be87_c85b764c25bcrow3_col10 {\n",
       "            \n",
       "                background-color:  #7b9ff9;\n",
       "            \n",
       "            }\n",
       "        \n",
       "            #T_6912c300_05a9_11e8_be87_c85b764c25bcrow3_col11 {\n",
       "            \n",
       "                background-color:  #3d50c3;\n",
       "            \n",
       "            }\n",
       "        \n",
       "            #T_6912c300_05a9_11e8_be87_c85b764c25bcrow3_col12 {\n",
       "            \n",
       "                background-color:  #4358cb;\n",
       "            \n",
       "            }\n",
       "        \n",
       "            #T_6912c300_05a9_11e8_be87_c85b764c25bcrow4_col0 {\n",
       "            \n",
       "                background-color:  #4e68d8;\n",
       "            \n",
       "            }\n",
       "        \n",
       "            #T_6912c300_05a9_11e8_be87_c85b764c25bcrow4_col1 {\n",
       "            \n",
       "                background-color:  #516ddb;\n",
       "            \n",
       "            }\n",
       "        \n",
       "            #T_6912c300_05a9_11e8_be87_c85b764c25bcrow4_col2 {\n",
       "            \n",
       "                background-color:  #3e51c5;\n",
       "            \n",
       "            }\n",
       "        \n",
       "            #T_6912c300_05a9_11e8_be87_c85b764c25bcrow4_col3 {\n",
       "            \n",
       "                background-color:  #3d50c3;\n",
       "            \n",
       "            }\n",
       "        \n",
       "            #T_6912c300_05a9_11e8_be87_c85b764c25bcrow4_col4 {\n",
       "            \n",
       "                background-color:  #b40426;\n",
       "            \n",
       "            }\n",
       "        \n",
       "            #T_6912c300_05a9_11e8_be87_c85b764c25bcrow4_col5 {\n",
       "            \n",
       "                background-color:  #3b4cc0;\n",
       "            \n",
       "            }\n",
       "        \n",
       "            #T_6912c300_05a9_11e8_be87_c85b764c25bcrow4_col6 {\n",
       "            \n",
       "                background-color:  #6788ee;\n",
       "            \n",
       "            }\n",
       "        \n",
       "            #T_6912c300_05a9_11e8_be87_c85b764c25bcrow4_col7 {\n",
       "            \n",
       "                background-color:  #4f69d9;\n",
       "            \n",
       "            }\n",
       "        \n",
       "            #T_6912c300_05a9_11e8_be87_c85b764c25bcrow4_col8 {\n",
       "            \n",
       "                background-color:  #4358cb;\n",
       "            \n",
       "            }\n",
       "        \n",
       "            #T_6912c300_05a9_11e8_be87_c85b764c25bcrow4_col9 {\n",
       "            \n",
       "                background-color:  #4e68d8;\n",
       "            \n",
       "            }\n",
       "        \n",
       "            #T_6912c300_05a9_11e8_be87_c85b764c25bcrow4_col10 {\n",
       "            \n",
       "                background-color:  #5875e1;\n",
       "            \n",
       "            }\n",
       "        \n",
       "            #T_6912c300_05a9_11e8_be87_c85b764c25bcrow4_col11 {\n",
       "            \n",
       "                background-color:  #3f53c6;\n",
       "            \n",
       "            }\n",
       "        \n",
       "            #T_6912c300_05a9_11e8_be87_c85b764c25bcrow4_col12 {\n",
       "            \n",
       "                background-color:  #8db0fe;\n",
       "            \n",
       "            }\n",
       "        \n",
       "            #T_6912c300_05a9_11e8_be87_c85b764c25bcrow5_col0 {\n",
       "            \n",
       "                background-color:  #516ddb;\n",
       "            \n",
       "            }\n",
       "        \n",
       "            #T_6912c300_05a9_11e8_be87_c85b764c25bcrow5_col1 {\n",
       "            \n",
       "                background-color:  #5470de;\n",
       "            \n",
       "            }\n",
       "        \n",
       "            #T_6912c300_05a9_11e8_be87_c85b764c25bcrow5_col2 {\n",
       "            \n",
       "                background-color:  #4b64d5;\n",
       "            \n",
       "            }\n",
       "        \n",
       "            #T_6912c300_05a9_11e8_be87_c85b764c25bcrow5_col3 {\n",
       "            \n",
       "                background-color:  #4055c8;\n",
       "            \n",
       "            }\n",
       "        \n",
       "            #T_6912c300_05a9_11e8_be87_c85b764c25bcrow5_col4 {\n",
       "            \n",
       "                background-color:  #3b4cc0;\n",
       "            \n",
       "            }\n",
       "        \n",
       "            #T_6912c300_05a9_11e8_be87_c85b764c25bcrow5_col5 {\n",
       "            \n",
       "                background-color:  #b40426;\n",
       "            \n",
       "            }\n",
       "        \n",
       "            #T_6912c300_05a9_11e8_be87_c85b764c25bcrow5_col6 {\n",
       "            \n",
       "                background-color:  #4a63d3;\n",
       "            \n",
       "            }\n",
       "        \n",
       "            #T_6912c300_05a9_11e8_be87_c85b764c25bcrow5_col7 {\n",
       "            \n",
       "                background-color:  #5875e1;\n",
       "            \n",
       "            }\n",
       "        \n",
       "            #T_6912c300_05a9_11e8_be87_c85b764c25bcrow5_col8 {\n",
       "            \n",
       "                background-color:  #455cce;\n",
       "            \n",
       "            }\n",
       "        \n",
       "            #T_6912c300_05a9_11e8_be87_c85b764c25bcrow5_col9 {\n",
       "            \n",
       "                background-color:  #5572df;\n",
       "            \n",
       "            }\n",
       "        \n",
       "            #T_6912c300_05a9_11e8_be87_c85b764c25bcrow5_col10 {\n",
       "            \n",
       "                background-color:  #5d7ce6;\n",
       "            \n",
       "            }\n",
       "        \n",
       "            #T_6912c300_05a9_11e8_be87_c85b764c25bcrow5_col11 {\n",
       "            \n",
       "                background-color:  #3e51c5;\n",
       "            \n",
       "            }\n",
       "        \n",
       "            #T_6912c300_05a9_11e8_be87_c85b764c25bcrow5_col12 {\n",
       "            \n",
       "                background-color:  #6c8ff1;\n",
       "            \n",
       "            }\n",
       "        \n",
       "            #T_6912c300_05a9_11e8_be87_c85b764c25bcrow6_col0 {\n",
       "            \n",
       "                background-color:  #6282ea;\n",
       "            \n",
       "            }\n",
       "        \n",
       "            #T_6912c300_05a9_11e8_be87_c85b764c25bcrow6_col1 {\n",
       "            \n",
       "                background-color:  #455cce;\n",
       "            \n",
       "            }\n",
       "        \n",
       "            #T_6912c300_05a9_11e8_be87_c85b764c25bcrow6_col2 {\n",
       "            \n",
       "                background-color:  #3b4cc0;\n",
       "            \n",
       "            }\n",
       "        \n",
       "            #T_6912c300_05a9_11e8_be87_c85b764c25bcrow6_col3 {\n",
       "            \n",
       "                background-color:  #4055c8;\n",
       "            \n",
       "            }\n",
       "        \n",
       "            #T_6912c300_05a9_11e8_be87_c85b764c25bcrow6_col4 {\n",
       "            \n",
       "                background-color:  #6b8df0;\n",
       "            \n",
       "            }\n",
       "        \n",
       "            #T_6912c300_05a9_11e8_be87_c85b764c25bcrow6_col5 {\n",
       "            \n",
       "                background-color:  #4f69d9;\n",
       "            \n",
       "            }\n",
       "        \n",
       "            #T_6912c300_05a9_11e8_be87_c85b764c25bcrow6_col6 {\n",
       "            \n",
       "                background-color:  #b40426;\n",
       "            \n",
       "            }\n",
       "        \n",
       "            #T_6912c300_05a9_11e8_be87_c85b764c25bcrow6_col7 {\n",
       "            \n",
       "                background-color:  #445acc;\n",
       "            \n",
       "            }\n",
       "        \n",
       "            #T_6912c300_05a9_11e8_be87_c85b764c25bcrow6_col8 {\n",
       "            \n",
       "                background-color:  #4055c8;\n",
       "            \n",
       "            }\n",
       "        \n",
       "            #T_6912c300_05a9_11e8_be87_c85b764c25bcrow6_col9 {\n",
       "            \n",
       "                background-color:  #536edd;\n",
       "            \n",
       "            }\n",
       "        \n",
       "            #T_6912c300_05a9_11e8_be87_c85b764c25bcrow6_col10 {\n",
       "            \n",
       "                background-color:  #465ecf;\n",
       "            \n",
       "            }\n",
       "        \n",
       "            #T_6912c300_05a9_11e8_be87_c85b764c25bcrow6_col11 {\n",
       "            \n",
       "                background-color:  #4358cb;\n",
       "            \n",
       "            }\n",
       "        \n",
       "            #T_6912c300_05a9_11e8_be87_c85b764c25bcrow6_col12 {\n",
       "            \n",
       "                background-color:  #7a9df8;\n",
       "            \n",
       "            }\n",
       "        \n",
       "            #T_6912c300_05a9_11e8_be87_c85b764c25bcrow7_col0 {\n",
       "            \n",
       "                background-color:  #6485ec;\n",
       "            \n",
       "            }\n",
       "        \n",
       "            #T_6912c300_05a9_11e8_be87_c85b764c25bcrow7_col1 {\n",
       "            \n",
       "                background-color:  #f5c0a7;\n",
       "            \n",
       "            }\n",
       "        \n",
       "            #T_6912c300_05a9_11e8_be87_c85b764c25bcrow7_col2 {\n",
       "            \n",
       "                background-color:  #e0dbd8;\n",
       "            \n",
       "            }\n",
       "        \n",
       "            #T_6912c300_05a9_11e8_be87_c85b764c25bcrow7_col3 {\n",
       "            \n",
       "                background-color:  #7699f6;\n",
       "            \n",
       "            }\n",
       "        \n",
       "            #T_6912c300_05a9_11e8_be87_c85b764c25bcrow7_col4 {\n",
       "            \n",
       "                background-color:  #4a63d3;\n",
       "            \n",
       "            }\n",
       "        \n",
       "            #T_6912c300_05a9_11e8_be87_c85b764c25bcrow7_col5 {\n",
       "            \n",
       "                background-color:  #516ddb;\n",
       "            \n",
       "            }\n",
       "        \n",
       "            #T_6912c300_05a9_11e8_be87_c85b764c25bcrow7_col6 {\n",
       "            \n",
       "                background-color:  #3b4cc0;\n",
       "            \n",
       "            }\n",
       "        \n",
       "            #T_6912c300_05a9_11e8_be87_c85b764c25bcrow7_col7 {\n",
       "            \n",
       "                background-color:  #b40426;\n",
       "            \n",
       "            }\n",
       "        \n",
       "            #T_6912c300_05a9_11e8_be87_c85b764c25bcrow7_col8 {\n",
       "            \n",
       "                background-color:  #88abfd;\n",
       "            \n",
       "            }\n",
       "        \n",
       "            #T_6912c300_05a9_11e8_be87_c85b764c25bcrow7_col9 {\n",
       "            \n",
       "                background-color:  #d2dbe8;\n",
       "            \n",
       "            }\n",
       "        \n",
       "            #T_6912c300_05a9_11e8_be87_c85b764c25bcrow7_col10 {\n",
       "            \n",
       "                background-color:  #f59c7d;\n",
       "            \n",
       "            }\n",
       "        \n",
       "            #T_6912c300_05a9_11e8_be87_c85b764c25bcrow7_col11 {\n",
       "            \n",
       "                background-color:  #3d50c3;\n",
       "            \n",
       "            }\n",
       "        \n",
       "            #T_6912c300_05a9_11e8_be87_c85b764c25bcrow7_col12 {\n",
       "            \n",
       "                background-color:  #81a4fb;\n",
       "            \n",
       "            }\n",
       "        \n",
       "            #T_6912c300_05a9_11e8_be87_c85b764c25bcrow8_col0 {\n",
       "            \n",
       "                background-color:  #3b4cc0;\n",
       "            \n",
       "            }\n",
       "        \n",
       "            #T_6912c300_05a9_11e8_be87_c85b764c25bcrow8_col1 {\n",
       "            \n",
       "                background-color:  #8fb1fe;\n",
       "            \n",
       "            }\n",
       "        \n",
       "            #T_6912c300_05a9_11e8_be87_c85b764c25bcrow8_col2 {\n",
       "            \n",
       "                background-color:  #86a9fc;\n",
       "            \n",
       "            }\n",
       "        \n",
       "            #T_6912c300_05a9_11e8_be87_c85b764c25bcrow8_col3 {\n",
       "            \n",
       "                background-color:  #4c66d6;\n",
       "            \n",
       "            }\n",
       "        \n",
       "            #T_6912c300_05a9_11e8_be87_c85b764c25bcrow8_col4 {\n",
       "            \n",
       "                background-color:  #4055c8;\n",
       "            \n",
       "            }\n",
       "        \n",
       "            #T_6912c300_05a9_11e8_be87_c85b764c25bcrow8_col5 {\n",
       "            \n",
       "                background-color:  #4358cb;\n",
       "            \n",
       "            }\n",
       "        \n",
       "            #T_6912c300_05a9_11e8_be87_c85b764c25bcrow8_col6 {\n",
       "            \n",
       "                background-color:  #3b4cc0;\n",
       "            \n",
       "            }\n",
       "        \n",
       "            #T_6912c300_05a9_11e8_be87_c85b764c25bcrow8_col7 {\n",
       "            \n",
       "                background-color:  #8badfd;\n",
       "            \n",
       "            }\n",
       "        \n",
       "            #T_6912c300_05a9_11e8_be87_c85b764c25bcrow8_col8 {\n",
       "            \n",
       "                background-color:  #b40426;\n",
       "            \n",
       "            }\n",
       "        \n",
       "            #T_6912c300_05a9_11e8_be87_c85b764c25bcrow8_col9 {\n",
       "            \n",
       "                background-color:  #7597f6;\n",
       "            \n",
       "            }\n",
       "        \n",
       "            #T_6912c300_05a9_11e8_be87_c85b764c25bcrow8_col10 {\n",
       "            \n",
       "                background-color:  #93b5fe;\n",
       "            \n",
       "            }\n",
       "        \n",
       "            #T_6912c300_05a9_11e8_be87_c85b764c25bcrow8_col11 {\n",
       "            \n",
       "                background-color:  #3e51c5;\n",
       "            \n",
       "            }\n",
       "        \n",
       "            #T_6912c300_05a9_11e8_be87_c85b764c25bcrow8_col12 {\n",
       "            \n",
       "                background-color:  #485fd1;\n",
       "            \n",
       "            }\n",
       "        \n",
       "            #T_6912c300_05a9_11e8_be87_c85b764c25bcrow9_col0 {\n",
       "            \n",
       "                background-color:  #f7b599;\n",
       "            \n",
       "            }\n",
       "        \n",
       "            #T_6912c300_05a9_11e8_be87_c85b764c25bcrow9_col1 {\n",
       "            \n",
       "                background-color:  #d6dce4;\n",
       "            \n",
       "            }\n",
       "        \n",
       "            #T_6912c300_05a9_11e8_be87_c85b764c25bcrow9_col2 {\n",
       "            \n",
       "                background-color:  #cbd8ee;\n",
       "            \n",
       "            }\n",
       "        \n",
       "            #T_6912c300_05a9_11e8_be87_c85b764c25bcrow9_col3 {\n",
       "            \n",
       "                background-color:  #5d7ce6;\n",
       "            \n",
       "            }\n",
       "        \n",
       "            #T_6912c300_05a9_11e8_be87_c85b764c25bcrow9_col4 {\n",
       "            \n",
       "                background-color:  #4961d2;\n",
       "            \n",
       "            }\n",
       "        \n",
       "            #T_6912c300_05a9_11e8_be87_c85b764c25bcrow9_col5 {\n",
       "            \n",
       "                background-color:  #506bda;\n",
       "            \n",
       "            }\n",
       "        \n",
       "            #T_6912c300_05a9_11e8_be87_c85b764c25bcrow9_col6 {\n",
       "            \n",
       "                background-color:  #4a63d3;\n",
       "            \n",
       "            }\n",
       "        \n",
       "            #T_6912c300_05a9_11e8_be87_c85b764c25bcrow9_col7 {\n",
       "            \n",
       "                background-color:  #d3dbe7;\n",
       "            \n",
       "            }\n",
       "        \n",
       "            #T_6912c300_05a9_11e8_be87_c85b764c25bcrow9_col8 {\n",
       "            \n",
       "                background-color:  #7295f4;\n",
       "            \n",
       "            }\n",
       "        \n",
       "            #T_6912c300_05a9_11e8_be87_c85b764c25bcrow9_col9 {\n",
       "            \n",
       "                background-color:  #b40426;\n",
       "            \n",
       "            }\n",
       "        \n",
       "            #T_6912c300_05a9_11e8_be87_c85b764c25bcrow9_col10 {\n",
       "            \n",
       "                background-color:  #e4d9d2;\n",
       "            \n",
       "            }\n",
       "        \n",
       "            #T_6912c300_05a9_11e8_be87_c85b764c25bcrow9_col11 {\n",
       "            \n",
       "                background-color:  #3b4cc0;\n",
       "            \n",
       "            }\n",
       "        \n",
       "            #T_6912c300_05a9_11e8_be87_c85b764c25bcrow9_col12 {\n",
       "            \n",
       "                background-color:  #6687ed;\n",
       "            \n",
       "            }\n",
       "        \n",
       "            #T_6912c300_05a9_11e8_be87_c85b764c25bcrow10_col0 {\n",
       "            \n",
       "                background-color:  #7b9ff9;\n",
       "            \n",
       "            }\n",
       "        \n",
       "            #T_6912c300_05a9_11e8_be87_c85b764c25bcrow10_col1 {\n",
       "            \n",
       "                background-color:  #f4987a;\n",
       "            \n",
       "            }\n",
       "        \n",
       "            #T_6912c300_05a9_11e8_be87_c85b764c25bcrow10_col2 {\n",
       "            \n",
       "                background-color:  #f7bca1;\n",
       "            \n",
       "            }\n",
       "        \n",
       "            #T_6912c300_05a9_11e8_be87_c85b764c25bcrow10_col3 {\n",
       "            \n",
       "                background-color:  #799cf8;\n",
       "            \n",
       "            }\n",
       "        \n",
       "            #T_6912c300_05a9_11e8_be87_c85b764c25bcrow10_col4 {\n",
       "            \n",
       "                background-color:  #536edd;\n",
       "            \n",
       "            }\n",
       "        \n",
       "            #T_6912c300_05a9_11e8_be87_c85b764c25bcrow10_col5 {\n",
       "            \n",
       "                background-color:  #5875e1;\n",
       "            \n",
       "            }\n",
       "        \n",
       "            #T_6912c300_05a9_11e8_be87_c85b764c25bcrow10_col6 {\n",
       "            \n",
       "                background-color:  #3d50c3;\n",
       "            \n",
       "            }\n",
       "        \n",
       "            #T_6912c300_05a9_11e8_be87_c85b764c25bcrow10_col7 {\n",
       "            \n",
       "                background-color:  #f59c7d;\n",
       "            \n",
       "            }\n",
       "        \n",
       "            #T_6912c300_05a9_11e8_be87_c85b764c25bcrow10_col8 {\n",
       "            \n",
       "                background-color:  #92b4fe;\n",
       "            \n",
       "            }\n",
       "        \n",
       "            #T_6912c300_05a9_11e8_be87_c85b764c25bcrow10_col9 {\n",
       "            \n",
       "                background-color:  #e4d9d2;\n",
       "            \n",
       "            }\n",
       "        \n",
       "            #T_6912c300_05a9_11e8_be87_c85b764c25bcrow10_col10 {\n",
       "            \n",
       "                background-color:  #b40426;\n",
       "            \n",
       "            }\n",
       "        \n",
       "            #T_6912c300_05a9_11e8_be87_c85b764c25bcrow10_col11 {\n",
       "            \n",
       "                background-color:  #3b4cc0;\n",
       "            \n",
       "            }\n",
       "        \n",
       "            #T_6912c300_05a9_11e8_be87_c85b764c25bcrow10_col12 {\n",
       "            \n",
       "                background-color:  #90b2fe;\n",
       "            \n",
       "            }\n",
       "        \n",
       "            #T_6912c300_05a9_11e8_be87_c85b764c25bcrow11_col0 {\n",
       "            \n",
       "                background-color:  #3c4ec2;\n",
       "            \n",
       "            }\n",
       "        \n",
       "            #T_6912c300_05a9_11e8_be87_c85b764c25bcrow11_col1 {\n",
       "            \n",
       "                background-color:  #3c4ec2;\n",
       "            \n",
       "            }\n",
       "        \n",
       "            #T_6912c300_05a9_11e8_be87_c85b764c25bcrow11_col2 {\n",
       "            \n",
       "                background-color:  #3b4cc0;\n",
       "            \n",
       "            }\n",
       "        \n",
       "            #T_6912c300_05a9_11e8_be87_c85b764c25bcrow11_col3 {\n",
       "            \n",
       "                background-color:  #3c4ec2;\n",
       "            \n",
       "            }\n",
       "        \n",
       "            #T_6912c300_05a9_11e8_be87_c85b764c25bcrow11_col4 {\n",
       "            \n",
       "                background-color:  #3d50c3;\n",
       "            \n",
       "            }\n",
       "        \n",
       "            #T_6912c300_05a9_11e8_be87_c85b764c25bcrow11_col5 {\n",
       "            \n",
       "                background-color:  #3b4cc0;\n",
       "            \n",
       "            }\n",
       "        \n",
       "            #T_6912c300_05a9_11e8_be87_c85b764c25bcrow11_col6 {\n",
       "            \n",
       "                background-color:  #3c4ec2;\n",
       "            \n",
       "            }\n",
       "        \n",
       "            #T_6912c300_05a9_11e8_be87_c85b764c25bcrow11_col7 {\n",
       "            \n",
       "                background-color:  #4055c8;\n",
       "            \n",
       "            }\n",
       "        \n",
       "            #T_6912c300_05a9_11e8_be87_c85b764c25bcrow11_col8 {\n",
       "            \n",
       "                background-color:  #3d50c3;\n",
       "            \n",
       "            }\n",
       "        \n",
       "            #T_6912c300_05a9_11e8_be87_c85b764c25bcrow11_col9 {\n",
       "            \n",
       "                background-color:  #3c4ec2;\n",
       "            \n",
       "            }\n",
       "        \n",
       "            #T_6912c300_05a9_11e8_be87_c85b764c25bcrow11_col10 {\n",
       "            \n",
       "                background-color:  #3d50c3;\n",
       "            \n",
       "            }\n",
       "        \n",
       "            #T_6912c300_05a9_11e8_be87_c85b764c25bcrow11_col11 {\n",
       "            \n",
       "                background-color:  #b40426;\n",
       "            \n",
       "            }\n",
       "        \n",
       "            #T_6912c300_05a9_11e8_be87_c85b764c25bcrow11_col12 {\n",
       "            \n",
       "                background-color:  #3f53c6;\n",
       "            \n",
       "            }\n",
       "        \n",
       "            #T_6912c300_05a9_11e8_be87_c85b764c25bcrow12_col0 {\n",
       "            \n",
       "                background-color:  #6180e9;\n",
       "            \n",
       "            }\n",
       "        \n",
       "            #T_6912c300_05a9_11e8_be87_c85b764c25bcrow12_col1 {\n",
       "            \n",
       "                background-color:  #7699f6;\n",
       "            \n",
       "            }\n",
       "        \n",
       "            #T_6912c300_05a9_11e8_be87_c85b764c25bcrow12_col2 {\n",
       "            \n",
       "                background-color:  #3b4cc0;\n",
       "            \n",
       "            }\n",
       "        \n",
       "            #T_6912c300_05a9_11e8_be87_c85b764c25bcrow12_col3 {\n",
       "            \n",
       "                background-color:  #3d50c3;\n",
       "            \n",
       "            }\n",
       "        \n",
       "            #T_6912c300_05a9_11e8_be87_c85b764c25bcrow12_col4 {\n",
       "            \n",
       "                background-color:  #85a8fc;\n",
       "            \n",
       "            }\n",
       "        \n",
       "            #T_6912c300_05a9_11e8_be87_c85b764c25bcrow12_col5 {\n",
       "            \n",
       "                background-color:  #6485ec;\n",
       "            \n",
       "            }\n",
       "        \n",
       "            #T_6912c300_05a9_11e8_be87_c85b764c25bcrow12_col6 {\n",
       "            \n",
       "                background-color:  #6f92f3;\n",
       "            \n",
       "            }\n",
       "        \n",
       "            #T_6912c300_05a9_11e8_be87_c85b764c25bcrow12_col7 {\n",
       "            \n",
       "                background-color:  #80a3fa;\n",
       "            \n",
       "            }\n",
       "        \n",
       "            #T_6912c300_05a9_11e8_be87_c85b764c25bcrow12_col8 {\n",
       "            \n",
       "                background-color:  #4358cb;\n",
       "            \n",
       "            }\n",
       "        \n",
       "            #T_6912c300_05a9_11e8_be87_c85b764c25bcrow12_col9 {\n",
       "            \n",
       "                background-color:  #6384eb;\n",
       "            \n",
       "            }\n",
       "        \n",
       "            #T_6912c300_05a9_11e8_be87_c85b764c25bcrow12_col10 {\n",
       "            \n",
       "                background-color:  #8db0fe;\n",
       "            \n",
       "            }\n",
       "        \n",
       "            #T_6912c300_05a9_11e8_be87_c85b764c25bcrow12_col11 {\n",
       "            \n",
       "                background-color:  #3b4cc0;\n",
       "            \n",
       "            }\n",
       "        \n",
       "            #T_6912c300_05a9_11e8_be87_c85b764c25bcrow12_col12 {\n",
       "            \n",
       "                background-color:  #b40426;\n",
       "            \n",
       "            }\n",
       "        \n",
       "        </style>\n",
       "\n",
       "        <table id=\"T_6912c300_05a9_11e8_be87_c85b764c25bc\" None>\n",
       "        \n",
       "\n",
       "        <thead>\n",
       "            \n",
       "            <tr>\n",
       "                \n",
       "                <th class=\"blank\">\n",
       "                \n",
       "                <th class=\"col_heading level0 col0\">age\n",
       "                \n",
       "                <th class=\"col_heading level0 col1\">industry_code\n",
       "                \n",
       "                <th class=\"col_heading level0 col2\">occupation_code\n",
       "                \n",
       "                <th class=\"col_heading level0 col3\">wage_per_hour\n",
       "                \n",
       "                <th class=\"col_heading level0 col4\">capital_gains\n",
       "                \n",
       "                <th class=\"col_heading level0 col5\">capital_losses\n",
       "                \n",
       "                <th class=\"col_heading level0 col6\">dividend_from_Stocks\n",
       "                \n",
       "                <th class=\"col_heading level0 col7\">num_person_Worked_employer\n",
       "                \n",
       "                <th class=\"col_heading level0 col8\">business_or_self_employed\n",
       "                \n",
       "                <th class=\"col_heading level0 col9\">veterans_benefits\n",
       "                \n",
       "                <th class=\"col_heading level0 col10\">weeks_worked_in_year\n",
       "                \n",
       "                <th class=\"col_heading level0 col11\">year\n",
       "                \n",
       "                <th class=\"col_heading level0 col12\">income_level\n",
       "                \n",
       "            </tr>\n",
       "            \n",
       "        </thead>\n",
       "        <tbody>\n",
       "            \n",
       "            <tr>\n",
       "                \n",
       "                <th id=\"T_6912c300_05a9_11e8_be87_c85b764c25bc\" class=\"row_heading level12 row0\">\n",
       "                    age\n",
       "                \n",
       "                <td id=\"T_6912c300_05a9_11e8_be87_c85b764c25bcrow0_col0\" class=\"data row0 col0\">\n",
       "                    1.0\n",
       "                \n",
       "                <td id=\"T_6912c300_05a9_11e8_be87_c85b764c25bcrow0_col1\" class=\"data row0 col1\">\n",
       "                    0.15782\n",
       "                \n",
       "                <td id=\"T_6912c300_05a9_11e8_be87_c85b764c25bcrow0_col2\" class=\"data row0 col2\">\n",
       "                    0.11741\n",
       "                \n",
       "                <td id=\"T_6912c300_05a9_11e8_be87_c85b764c25bcrow0_col3\" class=\"data row0 col3\">\n",
       "                    0.036938\n",
       "                \n",
       "                <td id=\"T_6912c300_05a9_11e8_be87_c85b764c25bcrow0_col4\" class=\"data row0 col4\">\n",
       "                    0.05359\n",
       "                \n",
       "                <td id=\"T_6912c300_05a9_11e8_be87_c85b764c25bcrow0_col5\" class=\"data row0 col5\">\n",
       "                    0.063351\n",
       "                \n",
       "                <td id=\"T_6912c300_05a9_11e8_be87_c85b764c25bcrow0_col6\" class=\"data row0 col6\">\n",
       "                    0.10498\n",
       "                \n",
       "                <td id=\"T_6912c300_05a9_11e8_be87_c85b764c25bcrow0_col7\" class=\"data row0 col7\">\n",
       "                    0.14089\n",
       "                \n",
       "                <td id=\"T_6912c300_05a9_11e8_be87_c85b764c25bcrow0_col8\" class=\"data row0 col8\">\n",
       "                    -0.0022655\n",
       "                \n",
       "                <td id=\"T_6912c300_05a9_11e8_be87_c85b764c25bcrow0_col9\" class=\"data row0 col9\">\n",
       "                    0.67484\n",
       "                \n",
       "                <td id=\"T_6912c300_05a9_11e8_be87_c85b764c25bcrow0_col10\" class=\"data row0 col10\">\n",
       "                    0.20618\n",
       "                \n",
       "                <td id=\"T_6912c300_05a9_11e8_be87_c85b764c25bcrow0_col11\" class=\"data row0 col11\">\n",
       "                    0.0044135\n",
       "                \n",
       "                <td id=\"T_6912c300_05a9_11e8_be87_c85b764c25bcrow0_col12\" class=\"data row0 col12\">\n",
       "                    0.13572\n",
       "                \n",
       "            </tr>\n",
       "            \n",
       "            <tr>\n",
       "                \n",
       "                <th id=\"T_6912c300_05a9_11e8_be87_c85b764c25bc\" class=\"row_heading level12 row1\">\n",
       "                    industry_code\n",
       "                \n",
       "                <td id=\"T_6912c300_05a9_11e8_be87_c85b764c25bcrow1_col0\" class=\"data row1 col0\">\n",
       "                    0.15782\n",
       "                \n",
       "                <td id=\"T_6912c300_05a9_11e8_be87_c85b764c25bcrow1_col1\" class=\"data row1 col1\">\n",
       "                    1.0\n",
       "                \n",
       "                <td id=\"T_6912c300_05a9_11e8_be87_c85b764c25bcrow1_col2\" class=\"data row1 col2\">\n",
       "                    0.56349\n",
       "                \n",
       "                <td id=\"T_6912c300_05a9_11e8_be87_c85b764c25bcrow1_col3\" class=\"data row1 col3\">\n",
       "                    0.16598\n",
       "                \n",
       "                <td id=\"T_6912c300_05a9_11e8_be87_c85b764c25bcrow1_col4\" class=\"data row1 col4\">\n",
       "                    0.066017\n",
       "                \n",
       "                <td id=\"T_6912c300_05a9_11e8_be87_c85b764c25bcrow1_col5\" class=\"data row1 col5\">\n",
       "                    0.072586\n",
       "                \n",
       "                <td id=\"T_6912c300_05a9_11e8_be87_c85b764c25bcrow1_col6\" class=\"data row1 col6\">\n",
       "                    0.012774\n",
       "                \n",
       "                <td id=\"T_6912c300_05a9_11e8_be87_c85b764c25bcrow1_col7\" class=\"data row1 col7\">\n",
       "                    0.6421\n",
       "                \n",
       "                <td id=\"T_6912c300_05a9_11e8_be87_c85b764c25bcrow1_col8\" class=\"data row1 col8\">\n",
       "                    0.25269\n",
       "                \n",
       "                <td id=\"T_6912c300_05a9_11e8_be87_c85b764c25bcrow1_col9\" class=\"data row1 col9\">\n",
       "                    0.47648\n",
       "                \n",
       "                <td id=\"T_6912c300_05a9_11e8_be87_c85b764c25bcrow1_col10\" class=\"data row1 col10\">\n",
       "                    0.75447\n",
       "                \n",
       "                <td id=\"T_6912c300_05a9_11e8_be87_c85b764c25bcrow1_col11\" class=\"data row1 col11\">\n",
       "                    0.0034299\n",
       "                \n",
       "                <td id=\"T_6912c300_05a9_11e8_be87_c85b764c25bcrow1_col12\" class=\"data row1 col12\">\n",
       "                    0.19619\n",
       "                \n",
       "            </tr>\n",
       "            \n",
       "            <tr>\n",
       "                \n",
       "                <th id=\"T_6912c300_05a9_11e8_be87_c85b764c25bc\" class=\"row_heading level12 row2\">\n",
       "                    occupation_code\n",
       "                \n",
       "                <td id=\"T_6912c300_05a9_11e8_be87_c85b764c25bcrow2_col0\" class=\"data row2 col0\">\n",
       "                    0.11741\n",
       "                \n",
       "                <td id=\"T_6912c300_05a9_11e8_be87_c85b764c25bcrow2_col1\" class=\"data row2 col1\">\n",
       "                    0.56349\n",
       "                \n",
       "                <td id=\"T_6912c300_05a9_11e8_be87_c85b764c25bcrow2_col2\" class=\"data row2 col2\">\n",
       "                    1.0\n",
       "                \n",
       "                <td id=\"T_6912c300_05a9_11e8_be87_c85b764c25bcrow2_col3\" class=\"data row2 col3\">\n",
       "                    0.1945\n",
       "                \n",
       "                <td id=\"T_6912c300_05a9_11e8_be87_c85b764c25bcrow2_col4\" class=\"data row2 col4\">\n",
       "                    0.0025341\n",
       "                \n",
       "                <td id=\"T_6912c300_05a9_11e8_be87_c85b764c25bcrow2_col5\" class=\"data row2 col5\">\n",
       "                    0.04368\n",
       "                \n",
       "                <td id=\"T_6912c300_05a9_11e8_be87_c85b764c25bcrow2_col6\" class=\"data row2 col6\">\n",
       "                    -0.026726\n",
       "                \n",
       "                <td id=\"T_6912c300_05a9_11e8_be87_c85b764c25bcrow2_col7\" class=\"data row2 col7\">\n",
       "                    0.51555\n",
       "                \n",
       "                <td id=\"T_6912c300_05a9_11e8_be87_c85b764c25bcrow2_col8\" class=\"data row2 col8\">\n",
       "                    0.22895\n",
       "                \n",
       "                <td id=\"T_6912c300_05a9_11e8_be87_c85b764c25bcrow2_col9\" class=\"data row2 col9\">\n",
       "                    0.43868\n",
       "                \n",
       "                <td id=\"T_6912c300_05a9_11e8_be87_c85b764c25bcrow2_col10\" class=\"data row2 col10\">\n",
       "                    0.65561\n",
       "                \n",
       "                <td id=\"T_6912c300_05a9_11e8_be87_c85b764c25bcrow2_col11\" class=\"data row2 col11\">\n",
       "                    -0.0031397\n",
       "                \n",
       "                <td id=\"T_6912c300_05a9_11e8_be87_c85b764c25bcrow2_col12\" class=\"data row2 col12\">\n",
       "                    0.013414\n",
       "                \n",
       "            </tr>\n",
       "            \n",
       "            <tr>\n",
       "                \n",
       "                <th id=\"T_6912c300_05a9_11e8_be87_c85b764c25bc\" class=\"row_heading level12 row3\">\n",
       "                    wage_per_hour\n",
       "                \n",
       "                <td id=\"T_6912c300_05a9_11e8_be87_c85b764c25bcrow3_col0\" class=\"data row3 col0\">\n",
       "                    0.036938\n",
       "                \n",
       "                <td id=\"T_6912c300_05a9_11e8_be87_c85b764c25bcrow3_col1\" class=\"data row3 col1\">\n",
       "                    0.16598\n",
       "                \n",
       "                <td id=\"T_6912c300_05a9_11e8_be87_c85b764c25bcrow3_col2\" class=\"data row3 col2\">\n",
       "                    0.1945\n",
       "                \n",
       "                <td id=\"T_6912c300_05a9_11e8_be87_c85b764c25bcrow3_col3\" class=\"data row3 col3\">\n",
       "                    1.0\n",
       "                \n",
       "                <td id=\"T_6912c300_05a9_11e8_be87_c85b764c25bcrow3_col4\" class=\"data row3 col4\">\n",
       "                    -0.001082\n",
       "                \n",
       "                <td id=\"T_6912c300_05a9_11e8_be87_c85b764c25bcrow3_col5\" class=\"data row3 col5\">\n",
       "                    0.010993\n",
       "                \n",
       "                <td id=\"T_6912c300_05a9_11e8_be87_c85b764c25bcrow3_col6\" class=\"data row3 col6\">\n",
       "                    -0.005731\n",
       "                \n",
       "                <td id=\"T_6912c300_05a9_11e8_be87_c85b764c25bcrow3_col7\" class=\"data row3 col7\">\n",
       "                    0.19154\n",
       "                \n",
       "                <td id=\"T_6912c300_05a9_11e8_be87_c85b764c25bcrow3_col8\" class=\"data row3 col8\">\n",
       "                    0.054051\n",
       "                \n",
       "                <td id=\"T_6912c300_05a9_11e8_be87_c85b764c25bcrow3_col9\" class=\"data row3 col9\">\n",
       "                    0.11309\n",
       "                \n",
       "                <td id=\"T_6912c300_05a9_11e8_be87_c85b764c25bcrow3_col10\" class=\"data row3 col10\">\n",
       "                    0.19569\n",
       "                \n",
       "                <td id=\"T_6912c300_05a9_11e8_be87_c85b764c25bcrow3_col11\" class=\"data row3 col11\">\n",
       "                    0.0022829\n",
       "                \n",
       "                <td id=\"T_6912c300_05a9_11e8_be87_c85b764c25bcrow3_col12\" class=\"data row3 col12\">\n",
       "                    0.024528\n",
       "                \n",
       "            </tr>\n",
       "            \n",
       "            <tr>\n",
       "                \n",
       "                <th id=\"T_6912c300_05a9_11e8_be87_c85b764c25bc\" class=\"row_heading level12 row4\">\n",
       "                    capital_gains\n",
       "                \n",
       "                <td id=\"T_6912c300_05a9_11e8_be87_c85b764c25bcrow4_col0\" class=\"data row4 col0\">\n",
       "                    0.05359\n",
       "                \n",
       "                <td id=\"T_6912c300_05a9_11e8_be87_c85b764c25bcrow4_col1\" class=\"data row4 col1\">\n",
       "                    0.066017\n",
       "                \n",
       "                <td id=\"T_6912c300_05a9_11e8_be87_c85b764c25bcrow4_col2\" class=\"data row4 col2\">\n",
       "                    0.0025341\n",
       "                \n",
       "                <td id=\"T_6912c300_05a9_11e8_be87_c85b764c25bcrow4_col3\" class=\"data row4 col3\">\n",
       "                    -0.001082\n",
       "                \n",
       "                <td id=\"T_6912c300_05a9_11e8_be87_c85b764c25bcrow4_col4\" class=\"data row4 col4\">\n",
       "                    1.0\n",
       "                \n",
       "                <td id=\"T_6912c300_05a9_11e8_be87_c85b764c25bcrow4_col5\" class=\"data row4 col5\">\n",
       "                    -0.0127\n",
       "                \n",
       "                <td id=\"T_6912c300_05a9_11e8_be87_c85b764c25bcrow4_col6\" class=\"data row4 col6\">\n",
       "                    0.13148\n",
       "                \n",
       "                <td id=\"T_6912c300_05a9_11e8_be87_c85b764c25bcrow4_col7\" class=\"data row4 col7\">\n",
       "                    0.058015\n",
       "                \n",
       "                <td id=\"T_6912c300_05a9_11e8_be87_c85b764c25bcrow4_col8\" class=\"data row4 col8\">\n",
       "                    0.015048\n",
       "                \n",
       "                <td id=\"T_6912c300_05a9_11e8_be87_c85b764c25bcrow4_col9\" class=\"data row4 col9\">\n",
       "                    0.05153\n",
       "                \n",
       "                <td id=\"T_6912c300_05a9_11e8_be87_c85b764c25bcrow4_col10\" class=\"data row4 col10\">\n",
       "                    0.083549\n",
       "                \n",
       "                <td id=\"T_6912c300_05a9_11e8_be87_c85b764c25bcrow4_col11\" class=\"data row4 col11\">\n",
       "                    0.0052434\n",
       "                \n",
       "                <td id=\"T_6912c300_05a9_11e8_be87_c85b764c25bcrow4_col12\" class=\"data row4 col12\">\n",
       "                    0.24072\n",
       "                \n",
       "            </tr>\n",
       "            \n",
       "            <tr>\n",
       "                \n",
       "                <th id=\"T_6912c300_05a9_11e8_be87_c85b764c25bc\" class=\"row_heading level12 row5\">\n",
       "                    capital_losses\n",
       "                \n",
       "                <td id=\"T_6912c300_05a9_11e8_be87_c85b764c25bcrow5_col0\" class=\"data row5 col0\">\n",
       "                    0.063351\n",
       "                \n",
       "                <td id=\"T_6912c300_05a9_11e8_be87_c85b764c25bcrow5_col1\" class=\"data row5 col1\">\n",
       "                    0.072586\n",
       "                \n",
       "                <td id=\"T_6912c300_05a9_11e8_be87_c85b764c25bcrow5_col2\" class=\"data row5 col2\">\n",
       "                    0.04368\n",
       "                \n",
       "                <td id=\"T_6912c300_05a9_11e8_be87_c85b764c25bcrow5_col3\" class=\"data row5 col3\">\n",
       "                    0.010993\n",
       "                \n",
       "                <td id=\"T_6912c300_05a9_11e8_be87_c85b764c25bcrow5_col4\" class=\"data row5 col4\">\n",
       "                    -0.0127\n",
       "                \n",
       "                <td id=\"T_6912c300_05a9_11e8_be87_c85b764c25bcrow5_col5\" class=\"data row5 col5\">\n",
       "                    1.0\n",
       "                \n",
       "                <td id=\"T_6912c300_05a9_11e8_be87_c85b764c25bcrow5_col6\" class=\"data row5 col6\">\n",
       "                    0.042427\n",
       "                \n",
       "                <td id=\"T_6912c300_05a9_11e8_be87_c85b764c25bcrow5_col7\" class=\"data row5 col7\">\n",
       "                    0.084255\n",
       "                \n",
       "                <td id=\"T_6912c300_05a9_11e8_be87_c85b764c25bcrow5_col8\" class=\"data row5 col8\">\n",
       "                    0.024116\n",
       "                \n",
       "                <td id=\"T_6912c300_05a9_11e8_be87_c85b764c25bcrow5_col9\" class=\"data row5 col9\">\n",
       "                    0.075391\n",
       "                \n",
       "                <td id=\"T_6912c300_05a9_11e8_be87_c85b764c25bcrow5_col10\" class=\"data row5 col10\">\n",
       "                    0.10076\n",
       "                \n",
       "                <td id=\"T_6912c300_05a9_11e8_be87_c85b764c25bcrow5_col11\" class=\"data row5 col11\">\n",
       "                    9.5726e-05\n",
       "                \n",
       "                <td id=\"T_6912c300_05a9_11e8_be87_c85b764c25bcrow5_col12\" class=\"data row5 col12\">\n",
       "                    0.14742\n",
       "                \n",
       "            </tr>\n",
       "            \n",
       "            <tr>\n",
       "                \n",
       "                <th id=\"T_6912c300_05a9_11e8_be87_c85b764c25bc\" class=\"row_heading level12 row6\">\n",
       "                    dividend_from_Stocks\n",
       "                \n",
       "                <td id=\"T_6912c300_05a9_11e8_be87_c85b764c25bcrow6_col0\" class=\"data row6 col0\">\n",
       "                    0.10498\n",
       "                \n",
       "                <td id=\"T_6912c300_05a9_11e8_be87_c85b764c25bcrow6_col1\" class=\"data row6 col1\">\n",
       "                    0.012774\n",
       "                \n",
       "                <td id=\"T_6912c300_05a9_11e8_be87_c85b764c25bcrow6_col2\" class=\"data row6 col2\">\n",
       "                    -0.026726\n",
       "                \n",
       "                <td id=\"T_6912c300_05a9_11e8_be87_c85b764c25bcrow6_col3\" class=\"data row6 col3\">\n",
       "                    -0.005731\n",
       "                \n",
       "                <td id=\"T_6912c300_05a9_11e8_be87_c85b764c25bcrow6_col4\" class=\"data row6 col4\">\n",
       "                    0.13148\n",
       "                \n",
       "                <td id=\"T_6912c300_05a9_11e8_be87_c85b764c25bcrow6_col5\" class=\"data row6 col5\">\n",
       "                    0.042427\n",
       "                \n",
       "                <td id=\"T_6912c300_05a9_11e8_be87_c85b764c25bcrow6_col6\" class=\"data row6 col6\">\n",
       "                    1.0\n",
       "                \n",
       "                <td id=\"T_6912c300_05a9_11e8_be87_c85b764c25bcrow6_col7\" class=\"data row6 col7\">\n",
       "                    0.0072063\n",
       "                \n",
       "                <td id=\"T_6912c300_05a9_11e8_be87_c85b764c25bcrow6_col8\" class=\"data row6 col8\">\n",
       "                    -0.0048846\n",
       "                \n",
       "                <td id=\"T_6912c300_05a9_11e8_be87_c85b764c25bcrow6_col9\" class=\"data row6 col9\">\n",
       "                    0.054585\n",
       "                \n",
       "                <td id=\"T_6912c300_05a9_11e8_be87_c85b764c25bcrow6_col10\" class=\"data row6 col10\">\n",
       "                    0.013823\n",
       "                \n",
       "                <td id=\"T_6912c300_05a9_11e8_be87_c85b764c25bcrow6_col11\" class=\"data row6 col11\">\n",
       "                    0.0019127\n",
       "                \n",
       "                <td id=\"T_6912c300_05a9_11e8_be87_c85b764c25bcrow6_col12\" class=\"data row6 col12\">\n",
       "                    0.17578\n",
       "                \n",
       "            </tr>\n",
       "            \n",
       "            <tr>\n",
       "                \n",
       "                <th id=\"T_6912c300_05a9_11e8_be87_c85b764c25bc\" class=\"row_heading level12 row7\">\n",
       "                    num_person_Worked_employer\n",
       "                \n",
       "                <td id=\"T_6912c300_05a9_11e8_be87_c85b764c25bcrow7_col0\" class=\"data row7 col0\">\n",
       "                    0.14089\n",
       "                \n",
       "                <td id=\"T_6912c300_05a9_11e8_be87_c85b764c25bcrow7_col1\" class=\"data row7 col1\">\n",
       "                    0.6421\n",
       "                \n",
       "                <td id=\"T_6912c300_05a9_11e8_be87_c85b764c25bcrow7_col2\" class=\"data row7 col2\">\n",
       "                    0.51555\n",
       "                \n",
       "                <td id=\"T_6912c300_05a9_11e8_be87_c85b764c25bcrow7_col3\" class=\"data row7 col3\">\n",
       "                    0.19154\n",
       "                \n",
       "                <td id=\"T_6912c300_05a9_11e8_be87_c85b764c25bcrow7_col4\" class=\"data row7 col4\">\n",
       "                    0.058015\n",
       "                \n",
       "                <td id=\"T_6912c300_05a9_11e8_be87_c85b764c25bcrow7_col5\" class=\"data row7 col5\">\n",
       "                    0.084255\n",
       "                \n",
       "                <td id=\"T_6912c300_05a9_11e8_be87_c85b764c25bcrow7_col6\" class=\"data row7 col6\">\n",
       "                    0.0072063\n",
       "                \n",
       "                <td id=\"T_6912c300_05a9_11e8_be87_c85b764c25bcrow7_col7\" class=\"data row7 col7\">\n",
       "                    1.0\n",
       "                \n",
       "                <td id=\"T_6912c300_05a9_11e8_be87_c85b764c25bcrow7_col8\" class=\"data row7 col8\">\n",
       "                    0.24055\n",
       "                \n",
       "                <td id=\"T_6912c300_05a9_11e8_be87_c85b764c25bcrow7_col9\" class=\"data row7 col9\">\n",
       "                    0.46333\n",
       "                \n",
       "                <td id=\"T_6912c300_05a9_11e8_be87_c85b764c25bcrow7_col10\" class=\"data row7 col10\">\n",
       "                    0.7473\n",
       "                \n",
       "                <td id=\"T_6912c300_05a9_11e8_be87_c85b764c25bcrow7_col11\" class=\"data row7 col11\">\n",
       "                    0.018774\n",
       "                \n",
       "                <td id=\"T_6912c300_05a9_11e8_be87_c85b764c25bcrow7_col12\" class=\"data row7 col12\">\n",
       "                    0.22268\n",
       "                \n",
       "            </tr>\n",
       "            \n",
       "            <tr>\n",
       "                \n",
       "                <th id=\"T_6912c300_05a9_11e8_be87_c85b764c25bc\" class=\"row_heading level12 row8\">\n",
       "                    business_or_self_employed\n",
       "                \n",
       "                <td id=\"T_6912c300_05a9_11e8_be87_c85b764c25bcrow8_col0\" class=\"data row8 col0\">\n",
       "                    -0.0022655\n",
       "                \n",
       "                <td id=\"T_6912c300_05a9_11e8_be87_c85b764c25bcrow8_col1\" class=\"data row8 col1\">\n",
       "                    0.25269\n",
       "                \n",
       "                <td id=\"T_6912c300_05a9_11e8_be87_c85b764c25bcrow8_col2\" class=\"data row8 col2\">\n",
       "                    0.22895\n",
       "                \n",
       "                <td id=\"T_6912c300_05a9_11e8_be87_c85b764c25bcrow8_col3\" class=\"data row8 col3\">\n",
       "                    0.054051\n",
       "                \n",
       "                <td id=\"T_6912c300_05a9_11e8_be87_c85b764c25bcrow8_col4\" class=\"data row8 col4\">\n",
       "                    0.015048\n",
       "                \n",
       "                <td id=\"T_6912c300_05a9_11e8_be87_c85b764c25bcrow8_col5\" class=\"data row8 col5\">\n",
       "                    0.024116\n",
       "                \n",
       "                <td id=\"T_6912c300_05a9_11e8_be87_c85b764c25bcrow8_col6\" class=\"data row8 col6\">\n",
       "                    -0.0048846\n",
       "                \n",
       "                <td id=\"T_6912c300_05a9_11e8_be87_c85b764c25bcrow8_col7\" class=\"data row8 col7\">\n",
       "                    0.24055\n",
       "                \n",
       "                <td id=\"T_6912c300_05a9_11e8_be87_c85b764c25bcrow8_col8\" class=\"data row8 col8\">\n",
       "                    1.0\n",
       "                \n",
       "                <td id=\"T_6912c300_05a9_11e8_be87_c85b764c25bcrow8_col9\" class=\"data row8 col9\">\n",
       "                    0.17745\n",
       "                \n",
       "                <td id=\"T_6912c300_05a9_11e8_be87_c85b764c25bcrow8_col10\" class=\"data row8 col10\">\n",
       "                    0.26587\n",
       "                \n",
       "                <td id=\"T_6912c300_05a9_11e8_be87_c85b764c25bcrow8_col11\" class=\"data row8 col11\">\n",
       "                    0.0073771\n",
       "                \n",
       "                <td id=\"T_6912c300_05a9_11e8_be87_c85b764c25bcrow8_col12\" class=\"data row8 col12\">\n",
       "                    0.040473\n",
       "                \n",
       "            </tr>\n",
       "            \n",
       "            <tr>\n",
       "                \n",
       "                <th id=\"T_6912c300_05a9_11e8_be87_c85b764c25bc\" class=\"row_heading level12 row9\">\n",
       "                    veterans_benefits\n",
       "                \n",
       "                <td id=\"T_6912c300_05a9_11e8_be87_c85b764c25bcrow9_col0\" class=\"data row9 col0\">\n",
       "                    0.67484\n",
       "                \n",
       "                <td id=\"T_6912c300_05a9_11e8_be87_c85b764c25bcrow9_col1\" class=\"data row9 col1\">\n",
       "                    0.47648\n",
       "                \n",
       "                <td id=\"T_6912c300_05a9_11e8_be87_c85b764c25bcrow9_col2\" class=\"data row9 col2\">\n",
       "                    0.43868\n",
       "                \n",
       "                <td id=\"T_6912c300_05a9_11e8_be87_c85b764c25bcrow9_col3\" class=\"data row9 col3\">\n",
       "                    0.11309\n",
       "                \n",
       "                <td id=\"T_6912c300_05a9_11e8_be87_c85b764c25bcrow9_col4\" class=\"data row9 col4\">\n",
       "                    0.05153\n",
       "                \n",
       "                <td id=\"T_6912c300_05a9_11e8_be87_c85b764c25bcrow9_col5\" class=\"data row9 col5\">\n",
       "                    0.075391\n",
       "                \n",
       "                <td id=\"T_6912c300_05a9_11e8_be87_c85b764c25bcrow9_col6\" class=\"data row9 col6\">\n",
       "                    0.054585\n",
       "                \n",
       "                <td id=\"T_6912c300_05a9_11e8_be87_c85b764c25bcrow9_col7\" class=\"data row9 col7\">\n",
       "                    0.46333\n",
       "                \n",
       "                <td id=\"T_6912c300_05a9_11e8_be87_c85b764c25bcrow9_col8\" class=\"data row9 col8\">\n",
       "                    0.17745\n",
       "                \n",
       "                <td id=\"T_6912c300_05a9_11e8_be87_c85b764c25bcrow9_col9\" class=\"data row9 col9\">\n",
       "                    1.0\n",
       "                \n",
       "                <td id=\"T_6912c300_05a9_11e8_be87_c85b764c25bcrow9_col10\" class=\"data row9 col10\">\n",
       "                    0.53228\n",
       "                \n",
       "                <td id=\"T_6912c300_05a9_11e8_be87_c85b764c25bcrow9_col11\" class=\"data row9 col11\">\n",
       "                    0.0031223\n",
       "                \n",
       "                <td id=\"T_6912c300_05a9_11e8_be87_c85b764c25bcrow9_col12\" class=\"data row9 col12\">\n",
       "                    0.14093\n",
       "                \n",
       "            </tr>\n",
       "            \n",
       "            <tr>\n",
       "                \n",
       "                <th id=\"T_6912c300_05a9_11e8_be87_c85b764c25bc\" class=\"row_heading level12 row10\">\n",
       "                    weeks_worked_in_year\n",
       "                \n",
       "                <td id=\"T_6912c300_05a9_11e8_be87_c85b764c25bcrow10_col0\" class=\"data row10 col0\">\n",
       "                    0.20618\n",
       "                \n",
       "                <td id=\"T_6912c300_05a9_11e8_be87_c85b764c25bcrow10_col1\" class=\"data row10 col1\">\n",
       "                    0.75447\n",
       "                \n",
       "                <td id=\"T_6912c300_05a9_11e8_be87_c85b764c25bcrow10_col2\" class=\"data row10 col2\">\n",
       "                    0.65561\n",
       "                \n",
       "                <td id=\"T_6912c300_05a9_11e8_be87_c85b764c25bcrow10_col3\" class=\"data row10 col3\">\n",
       "                    0.19569\n",
       "                \n",
       "                <td id=\"T_6912c300_05a9_11e8_be87_c85b764c25bcrow10_col4\" class=\"data row10 col4\">\n",
       "                    0.083549\n",
       "                \n",
       "                <td id=\"T_6912c300_05a9_11e8_be87_c85b764c25bcrow10_col5\" class=\"data row10 col5\">\n",
       "                    0.10076\n",
       "                \n",
       "                <td id=\"T_6912c300_05a9_11e8_be87_c85b764c25bcrow10_col6\" class=\"data row10 col6\">\n",
       "                    0.013823\n",
       "                \n",
       "                <td id=\"T_6912c300_05a9_11e8_be87_c85b764c25bcrow10_col7\" class=\"data row10 col7\">\n",
       "                    0.7473\n",
       "                \n",
       "                <td id=\"T_6912c300_05a9_11e8_be87_c85b764c25bcrow10_col8\" class=\"data row10 col8\">\n",
       "                    0.26587\n",
       "                \n",
       "                <td id=\"T_6912c300_05a9_11e8_be87_c85b764c25bcrow10_col9\" class=\"data row10 col9\">\n",
       "                    0.53228\n",
       "                \n",
       "                <td id=\"T_6912c300_05a9_11e8_be87_c85b764c25bcrow10_col10\" class=\"data row10 col10\">\n",
       "                    1.0\n",
       "                \n",
       "                <td id=\"T_6912c300_05a9_11e8_be87_c85b764c25bcrow10_col11\" class=\"data row10 col11\">\n",
       "                    0.0052521\n",
       "                \n",
       "                <td id=\"T_6912c300_05a9_11e8_be87_c85b764c25bcrow10_col12\" class=\"data row10 col12\">\n",
       "                    0.26232\n",
       "                \n",
       "            </tr>\n",
       "            \n",
       "            <tr>\n",
       "                \n",
       "                <th id=\"T_6912c300_05a9_11e8_be87_c85b764c25bc\" class=\"row_heading level12 row11\">\n",
       "                    year\n",
       "                \n",
       "                <td id=\"T_6912c300_05a9_11e8_be87_c85b764c25bcrow11_col0\" class=\"data row11 col0\">\n",
       "                    0.0044135\n",
       "                \n",
       "                <td id=\"T_6912c300_05a9_11e8_be87_c85b764c25bcrow11_col1\" class=\"data row11 col1\">\n",
       "                    0.0034299\n",
       "                \n",
       "                <td id=\"T_6912c300_05a9_11e8_be87_c85b764c25bcrow11_col2\" class=\"data row11 col2\">\n",
       "                    -0.0031397\n",
       "                \n",
       "                <td id=\"T_6912c300_05a9_11e8_be87_c85b764c25bcrow11_col3\" class=\"data row11 col3\">\n",
       "                    0.0022829\n",
       "                \n",
       "                <td id=\"T_6912c300_05a9_11e8_be87_c85b764c25bcrow11_col4\" class=\"data row11 col4\">\n",
       "                    0.0052434\n",
       "                \n",
       "                <td id=\"T_6912c300_05a9_11e8_be87_c85b764c25bcrow11_col5\" class=\"data row11 col5\">\n",
       "                    9.5726e-05\n",
       "                \n",
       "                <td id=\"T_6912c300_05a9_11e8_be87_c85b764c25bcrow11_col6\" class=\"data row11 col6\">\n",
       "                    0.0019127\n",
       "                \n",
       "                <td id=\"T_6912c300_05a9_11e8_be87_c85b764c25bcrow11_col7\" class=\"data row11 col7\">\n",
       "                    0.018774\n",
       "                \n",
       "                <td id=\"T_6912c300_05a9_11e8_be87_c85b764c25bcrow11_col8\" class=\"data row11 col8\">\n",
       "                    0.0073771\n",
       "                \n",
       "                <td id=\"T_6912c300_05a9_11e8_be87_c85b764c25bcrow11_col9\" class=\"data row11 col9\">\n",
       "                    0.0031223\n",
       "                \n",
       "                <td id=\"T_6912c300_05a9_11e8_be87_c85b764c25bcrow11_col10\" class=\"data row11 col10\">\n",
       "                    0.0052521\n",
       "                \n",
       "                <td id=\"T_6912c300_05a9_11e8_be87_c85b764c25bcrow11_col11\" class=\"data row11 col11\">\n",
       "                    1.0\n",
       "                \n",
       "                <td id=\"T_6912c300_05a9_11e8_be87_c85b764c25bcrow11_col12\" class=\"data row11 col12\">\n",
       "                    0.014794\n",
       "                \n",
       "            </tr>\n",
       "            \n",
       "            <tr>\n",
       "                \n",
       "                <th id=\"T_6912c300_05a9_11e8_be87_c85b764c25bc\" class=\"row_heading level12 row12\">\n",
       "                    income_level\n",
       "                \n",
       "                <td id=\"T_6912c300_05a9_11e8_be87_c85b764c25bcrow12_col0\" class=\"data row12 col0\">\n",
       "                    0.13572\n",
       "                \n",
       "                <td id=\"T_6912c300_05a9_11e8_be87_c85b764c25bcrow12_col1\" class=\"data row12 col1\">\n",
       "                    0.19619\n",
       "                \n",
       "                <td id=\"T_6912c300_05a9_11e8_be87_c85b764c25bcrow12_col2\" class=\"data row12 col2\">\n",
       "                    0.013414\n",
       "                \n",
       "                <td id=\"T_6912c300_05a9_11e8_be87_c85b764c25bcrow12_col3\" class=\"data row12 col3\">\n",
       "                    0.024528\n",
       "                \n",
       "                <td id=\"T_6912c300_05a9_11e8_be87_c85b764c25bcrow12_col4\" class=\"data row12 col4\">\n",
       "                    0.24072\n",
       "                \n",
       "                <td id=\"T_6912c300_05a9_11e8_be87_c85b764c25bcrow12_col5\" class=\"data row12 col5\">\n",
       "                    0.14742\n",
       "                \n",
       "                <td id=\"T_6912c300_05a9_11e8_be87_c85b764c25bcrow12_col6\" class=\"data row12 col6\">\n",
       "                    0.17578\n",
       "                \n",
       "                <td id=\"T_6912c300_05a9_11e8_be87_c85b764c25bcrow12_col7\" class=\"data row12 col7\">\n",
       "                    0.22268\n",
       "                \n",
       "                <td id=\"T_6912c300_05a9_11e8_be87_c85b764c25bcrow12_col8\" class=\"data row12 col8\">\n",
       "                    0.040473\n",
       "                \n",
       "                <td id=\"T_6912c300_05a9_11e8_be87_c85b764c25bcrow12_col9\" class=\"data row12 col9\">\n",
       "                    0.14093\n",
       "                \n",
       "                <td id=\"T_6912c300_05a9_11e8_be87_c85b764c25bcrow12_col10\" class=\"data row12 col10\">\n",
       "                    0.26232\n",
       "                \n",
       "                <td id=\"T_6912c300_05a9_11e8_be87_c85b764c25bcrow12_col11\" class=\"data row12 col11\">\n",
       "                    0.014794\n",
       "                \n",
       "                <td id=\"T_6912c300_05a9_11e8_be87_c85b764c25bcrow12_col12\" class=\"data row12 col12\">\n",
       "                    1.0\n",
       "                \n",
       "            </tr>\n",
       "            \n",
       "        </tbody>\n",
       "        </table>\n",
       "        "
      ],
      "text/plain": [
       "<pandas.formats.style.Styler at 0x1f8367338d0>"
      ]
     },
     "execution_count": 15,
     "metadata": {},
     "output_type": "execute_result"
    }
   ],
   "source": [
    "correlatio_table=df_train.corr()\n",
    "df_train.corr().style.format(\"{:.5}\").background_gradient(cmap=plt.get_cmap('coolwarm'), axis=1)"
   ]
  },
  {
   "cell_type": "code",
   "execution_count": 16,
   "metadata": {},
   "outputs": [
    {
     "data": {
      "text/plain": [
       "<matplotlib.axes._subplots.AxesSubplot at 0x1f834e39978>"
      ]
     },
     "execution_count": 16,
     "metadata": {},
     "output_type": "execute_result"
    },
    {
     "data": {
      "image/png": "[encoded data removed]",
      "text/plain": [
       "<matplotlib.figure.Figure at 0x1f836733e10>"
      ]
     },
     "metadata": {},
     "output_type": "display_data"
    }
   ],
   "source": [
    "sns.heatmap(correlatio_table, \n",
    "            xticklabels=correlatio_table.columns.values,\n",
    "            yticklabels=correlatio_table.columns.values)"
   ]
  },
  {
   "cell_type": "markdown",
   "metadata": {},
   "source": [
    "# Percentage of Null in Data "
   ]
  },
  {
   "cell_type": "code",
   "execution_count": 17,
   "metadata": {},
   "outputs": [
    {
     "name": "stdout",
     "output_type": "stream",
     "text": [
      "0age     0.0\n",
      "1class_of_worker     0.0\n",
      "2industry_code     0.0\n",
      "3occupation_code     0.0\n",
      "4education     0.0\n",
      "5wage_per_hour     0.0\n",
      "6enrolled_in_edu_inst_lastwk     0.0\n",
      "7marital_status     0.0\n",
      "8major_industry_code     0.0\n",
      "9major_occupation_code     0.0\n",
      "10race     0.0\n",
      "11hispanic_origin     0.43804473669702243\n",
      "12sex     0.0\n",
      "13member_of_labor_union     0.0\n",
      "14reason_for_unemployment     0.0\n",
      "15full_parttime_employment_stat     0.0\n",
      "16capital_gains     0.0\n",
      "17capital_losses     0.0\n",
      "18dividend_from_Stocks     0.0\n",
      "19tax_filer_status     0.0\n",
      "20region_of_previous_residence     0.0\n",
      "21state_of_previous_residence     0.35484630844564286\n",
      "22d_household_family_stat     0.0\n",
      "23d_household_summary     0.0\n",
      "24migration_msa     49.967171704515266\n",
      "25migration_reg     49.967171704515266\n",
      "26migration_within_reg     49.967171704515266\n",
      "27live_1_year_ago     0.0\n",
      "28migration_sunbelt     49.967171704515266\n",
      "29num_person_Worked_employer     0.0\n",
      "30family_members_under_18     0.0\n",
      "31country_father     3.3645243906717517\n",
      "32country_mother     3.0668143522300686\n",
      "33country_self     1.7005558256441615\n",
      "34citizenship     0.0\n",
      "35business_or_self_employed     0.0\n",
      "36fill_questionnaire_veteran_admin     0.0\n",
      "37veterans_benefits     0.0\n",
      "38weeks_worked_in_year     0.0\n",
      "39year     0.0\n",
      "40income_level     0.0\n"
     ]
    }
   ],
   "source": [
    "count=0\n",
    "for each in df_train.columns:\n",
    "    \n",
    "    percentage=(df_train.loc[df_train[each].isnull()==True].shape[0]/df_train.shape[0])*100\n",
    "    print(str(count)+str(each)+\"     \"+str(percentage))\n",
    "    count+=1"
   ]
  },
  {
   "cell_type": "markdown",
   "metadata": {},
   "source": [
    "## Replace null by unavailable"
   ]
  },
  {
   "cell_type": "code",
   "execution_count": 18,
   "metadata": {},
   "outputs": [],
   "source": [
    "df_train=df_train.ix[:,np.r_[0:24,27,29:41]]\n",
    "df_train.fillna('Unavailable',inplace=True)\n"
   ]
  },
  {
   "cell_type": "markdown",
   "metadata": {},
   "source": [
    "### Checking the null in test data"
   ]
  },
  {
   "cell_type": "code",
   "execution_count": 19,
   "metadata": {},
   "outputs": [
    {
     "name": "stdout",
     "output_type": "stream",
     "text": [
      "0age     0.0\n",
      "1class_of_worker     0.0\n",
      "2industry_code     0.0\n",
      "3occupation_code     0.0\n",
      "4education     0.0\n",
      "5wage_per_hour     0.0\n",
      "6enrolled_in_edu_inst_lastwk     0.0\n",
      "7marital_status     0.0\n",
      "8major_industry_code     0.0\n",
      "9major_occupation_code     0.0\n",
      "10race     0.0\n",
      "11hispanic_origin     0.0\n",
      "12sex     0.0\n",
      "13member_of_labor_union     0.0\n",
      "14reason_for_unemployment     0.0\n",
      "15full_parttime_employment_stat     0.0\n",
      "16capital_gains     0.0\n",
      "17capital_losses     0.0\n",
      "18dividend_from_Stocks     0.0\n",
      "19tax_filer_status     0.0\n",
      "20region_of_previous_residence     0.0\n",
      "21state_of_previous_residence     0.0\n",
      "22d_household_family_stat     0.0\n",
      "23d_household_summary     0.0\n",
      "24migration_msa     0.0\n",
      "25migration_reg     0.0\n",
      "26migration_within_reg     0.0\n",
      "27live_1_year_ago     0.0\n",
      "28migration_sunbelt     0.0\n",
      "29num_person_Worked_employer     0.0\n",
      "30family_members_under_18     0.0\n",
      "31country_father     0.0\n",
      "32country_mother     0.0\n",
      "33country_self     0.0\n",
      "34citizenship     0.0\n",
      "35business_or_self_employed     0.0\n",
      "36fill_questionnaire_veteran_admin     0.0\n",
      "37veterans_benefits     0.0\n",
      "38weeks_worked_in_year     0.0\n",
      "39year     0.0\n",
      "40income_level     0.0\n"
     ]
    }
   ],
   "source": [
    "count=0\n",
    "for each in df_test.columns:\n",
    "    \n",
    "    percentage=(df_test.loc[df_test[each].isnull()==True].shape[0]/df_test.shape[0])*100\n",
    "    print(str(count)+str(each)+\"     \"+str(percentage))\n",
    "    count+=1"
   ]
  },
  {
   "cell_type": "code",
   "execution_count": 20,
   "metadata": {},
   "outputs": [
    {
     "data": {
      "text/plain": [
       "(199523, 37)"
      ]
     },
     "execution_count": 20,
     "metadata": {},
     "output_type": "execute_result"
    }
   ],
   "source": [
    "df_train.shape"
   ]
  },
  {
   "cell_type": "code",
   "execution_count": 21,
   "metadata": {
    "collapsed": true
   },
   "outputs": [],
   "source": [
    "num_df=df_train[['age','industry_code', 'occupation_code','wage_per_hour','capital_gains','capital_losses','num_person_Worked_employer','business_or_self_employed','veterans_benefits','weeks_worked_in_year','year']]"
   ]
  },
  {
   "cell_type": "code",
   "execution_count": 22,
   "metadata": {},
   "outputs": [],
   "source": [
    "cat_df=df_train[['class_of_worker','education','enrolled_in_edu_inst_lastwk','marital_status','major_industry_code','major_occupation_code','race','hispanic_origin','sex','member_of_labor_union','reason_for_unemployment','full_parttime_employment_stat','tax_filer_status','region_of_previous_residence','state_of_previous_residence','d_household_family_stat','d_household_summary','live_1_year_ago','num_person_Worked_employer','family_members_under_18','country_father','country_mother','country_self','citizenship','fill_questionnaire_veteran_admin']]"
   ]
  },
  {
   "cell_type": "code",
   "execution_count": 23,
   "metadata": {},
   "outputs": [
    {
     "data": {
      "text/plain": [
       "0    187141\n",
       "1     12382\n",
       "Name: income_level, dtype: int64"
      ]
     },
     "execution_count": 23,
     "metadata": {},
     "output_type": "execute_result"
    }
   ],
   "source": [
    "df_train['income_level'].value_counts()"
   ]
  },
  {
   "cell_type": "code",
   "execution_count": null,
   "metadata": {
    "collapsed": true
   },
   "outputs": [],
   "source": []
  },
  {
   "cell_type": "markdown",
   "metadata": {},
   "source": [
    "# Combining the factor levels"
   ]
  },
  {
   "cell_type": "code",
   "execution_count": 24,
   "metadata": {
    "collapsed": true
   },
   "outputs": [],
   "source": [
    "def CombineLevels(x):\n",
    "    if x in list(LabelstoCombine):\n",
    "        return \"Other\"\n",
    "    else:\n",
    "        return x"
   ]
  },
  {
   "cell_type": "code",
   "execution_count": 25,
   "metadata": {
    "scrolled": true
   },
   "outputs": [],
   "source": [
    "for each in cat_df:\n",
    "    name=each\n",
    "    percentageDistribution=df_train.groupby(name).size()*100/df_train.shape[0]\n",
    "    #print(percentageDistribution)\n",
    "    LabelstoCombine=percentageDistribution[percentageDistribution<5].index\n",
    "    df_train[name]=df_train[name].apply(CombineLevels)\n",
    "    #print(name)\n",
    "    #print(\"*****************************************************\")"
   ]
  },
  {
   "cell_type": "code",
   "execution_count": 26,
   "metadata": {},
   "outputs": [],
   "source": [
    "for each in cat_df:\n",
    "    name=each\n",
    "    percentageDistribution=df_test.groupby(name).size()*100/df_test.shape[0]\n",
    "    #print(percentageDistribution)\n",
    "    LabelstoCombine=percentageDistribution[percentageDistribution<5].index\n",
    "    df_test[name]=df_test[name].apply(CombineLevels)\n",
    "    #print(name)\n",
    "    #print(\"*****************************************************\")"
   ]
  },
  {
   "cell_type": "code",
   "execution_count": null,
   "metadata": {
    "collapsed": true
   },
   "outputs": [],
   "source": []
  },
  {
   "cell_type": "markdown",
   "metadata": {},
   "source": [
    "# Check if there are same number of levels in train and test"
   ]
  },
  {
   "cell_type": "code",
   "execution_count": 27,
   "metadata": {},
   "outputs": [
    {
     "name": "stdout",
     "output_type": "stream",
     "text": [
      "Same level Counts\n"
     ]
    }
   ],
   "source": [
    "flag=0\n",
    "for each in cat_df:\n",
    "    name=each\n",
    "    #print(\"*****************************\")\n",
    "    #print(name)\n",
    "    #print(\"Train Data Level Count {}\".format(df_train[name].value_counts().count()))\n",
    "    #print(\"Test data level Count  {}\".format(df_test[name].value_counts().count()))\n",
    "    \n",
    "    #print(\"\\n\")\n",
    "    if(df_train[name].value_counts().count()!=df_test[name].value_counts().count()):\n",
    "        print(\"Different levels Count\")\n",
    "        flag=1\n",
    "        break\n",
    "    else:\n",
    "        pass\n",
    "if(flag==0):\n",
    "    print(\"Same level Counts\")"
   ]
  },
  {
   "cell_type": "markdown",
   "metadata": {},
   "source": [
    "# Converting Categorial Variables into labelled numbers\n"
   ]
  },
  {
   "cell_type": "code",
   "execution_count": 28,
   "metadata": {},
   "outputs": [
    {
     "name": "stdout",
     "output_type": "stream",
     "text": [
      "C:\\Users\\C5258370\\AppData\\Local\\Continuum\\Anaconda3\n"
     ]
    }
   ],
   "source": [
    "import sys\n",
    "print(sys.prefix)"
   ]
  },
  {
   "cell_type": "code",
   "execution_count": 29,
   "metadata": {},
   "outputs": [],
   "source": [
    "import sklearn\n",
    "from sklearn import preprocessing\n",
    "\n",
    "lb_make = preprocessing.LabelEncoder()"
   ]
  },
  {
   "cell_type": "code",
   "execution_count": 30,
   "metadata": {},
   "outputs": [
    {
     "data": {
      "text/html": [
       "<div>\n",
       "<table border=\"1\" class=\"dataframe\">\n",
       "  <thead>\n",
       "    <tr style=\"text-align: right;\">\n",
       "      <th></th>\n",
       "      <th>age</th>\n",
       "      <th>class_of_worker</th>\n",
       "      <th>industry_code</th>\n",
       "      <th>occupation_code</th>\n",
       "      <th>education</th>\n",
       "      <th>wage_per_hour</th>\n",
       "      <th>enrolled_in_edu_inst_lastwk</th>\n",
       "      <th>marital_status</th>\n",
       "      <th>major_industry_code</th>\n",
       "      <th>major_occupation_code</th>\n",
       "      <th>...</th>\n",
       "      <th>country_father</th>\n",
       "      <th>country_mother</th>\n",
       "      <th>country_self</th>\n",
       "      <th>citizenship</th>\n",
       "      <th>business_or_self_employed</th>\n",
       "      <th>fill_questionnaire_veteran_admin</th>\n",
       "      <th>veterans_benefits</th>\n",
       "      <th>weeks_worked_in_year</th>\n",
       "      <th>year</th>\n",
       "      <th>income_level</th>\n",
       "    </tr>\n",
       "  </thead>\n",
       "  <tbody>\n",
       "    <tr>\n",
       "      <th>0</th>\n",
       "      <td>73</td>\n",
       "      <td>0</td>\n",
       "      <td>0</td>\n",
       "      <td>0</td>\n",
       "      <td>2</td>\n",
       "      <td>0</td>\n",
       "      <td>0</td>\n",
       "      <td>4</td>\n",
       "      <td>0</td>\n",
       "      <td>2</td>\n",
       "      <td>...</td>\n",
       "      <td>2</td>\n",
       "      <td>1</td>\n",
       "      <td>1</td>\n",
       "      <td>1</td>\n",
       "      <td>0</td>\n",
       "      <td>0</td>\n",
       "      <td>2</td>\n",
       "      <td>0</td>\n",
       "      <td>95</td>\n",
       "      <td>0</td>\n",
       "    </tr>\n",
       "    <tr>\n",
       "      <th>1</th>\n",
       "      <td>58</td>\n",
       "      <td>1</td>\n",
       "      <td>4</td>\n",
       "      <td>34</td>\n",
       "      <td>4</td>\n",
       "      <td>0</td>\n",
       "      <td>0</td>\n",
       "      <td>0</td>\n",
       "      <td>1</td>\n",
       "      <td>5</td>\n",
       "      <td>...</td>\n",
       "      <td>2</td>\n",
       "      <td>1</td>\n",
       "      <td>1</td>\n",
       "      <td>1</td>\n",
       "      <td>0</td>\n",
       "      <td>0</td>\n",
       "      <td>2</td>\n",
       "      <td>52</td>\n",
       "      <td>94</td>\n",
       "      <td>0</td>\n",
       "    </tr>\n",
       "    <tr>\n",
       "      <th>2</th>\n",
       "      <td>18</td>\n",
       "      <td>0</td>\n",
       "      <td>0</td>\n",
       "      <td>0</td>\n",
       "      <td>3</td>\n",
       "      <td>0</td>\n",
       "      <td>1</td>\n",
       "      <td>2</td>\n",
       "      <td>0</td>\n",
       "      <td>2</td>\n",
       "      <td>...</td>\n",
       "      <td>1</td>\n",
       "      <td>0</td>\n",
       "      <td>0</td>\n",
       "      <td>0</td>\n",
       "      <td>0</td>\n",
       "      <td>0</td>\n",
       "      <td>2</td>\n",
       "      <td>0</td>\n",
       "      <td>95</td>\n",
       "      <td>0</td>\n",
       "    </tr>\n",
       "    <tr>\n",
       "      <th>3</th>\n",
       "      <td>9</td>\n",
       "      <td>0</td>\n",
       "      <td>0</td>\n",
       "      <td>0</td>\n",
       "      <td>1</td>\n",
       "      <td>0</td>\n",
       "      <td>0</td>\n",
       "      <td>2</td>\n",
       "      <td>0</td>\n",
       "      <td>2</td>\n",
       "      <td>...</td>\n",
       "      <td>2</td>\n",
       "      <td>1</td>\n",
       "      <td>1</td>\n",
       "      <td>1</td>\n",
       "      <td>0</td>\n",
       "      <td>0</td>\n",
       "      <td>0</td>\n",
       "      <td>0</td>\n",
       "      <td>94</td>\n",
       "      <td>0</td>\n",
       "    </tr>\n",
       "    <tr>\n",
       "      <th>4</th>\n",
       "      <td>10</td>\n",
       "      <td>0</td>\n",
       "      <td>0</td>\n",
       "      <td>0</td>\n",
       "      <td>1</td>\n",
       "      <td>0</td>\n",
       "      <td>0</td>\n",
       "      <td>2</td>\n",
       "      <td>0</td>\n",
       "      <td>2</td>\n",
       "      <td>...</td>\n",
       "      <td>2</td>\n",
       "      <td>1</td>\n",
       "      <td>1</td>\n",
       "      <td>1</td>\n",
       "      <td>0</td>\n",
       "      <td>0</td>\n",
       "      <td>0</td>\n",
       "      <td>0</td>\n",
       "      <td>94</td>\n",
       "      <td>0</td>\n",
       "    </tr>\n",
       "  </tbody>\n",
       "</table>\n",
       "<p>5 rows × 37 columns</p>\n",
       "</div>"
      ],
      "text/plain": [
       "   age  class_of_worker  industry_code  occupation_code  education  \\\n",
       "0   73                0              0                0          2   \n",
       "1   58                1              4               34          4   \n",
       "2   18                0              0                0          3   \n",
       "3    9                0              0                0          1   \n",
       "4   10                0              0                0          1   \n",
       "\n",
       "   wage_per_hour  enrolled_in_edu_inst_lastwk  marital_status  \\\n",
       "0              0                            0               4   \n",
       "1              0                            0               0   \n",
       "2              0                            1               2   \n",
       "3              0                            0               2   \n",
       "4              0                            0               2   \n",
       "\n",
       "   major_industry_code  major_occupation_code      ...       country_father  \\\n",
       "0                    0                      2      ...                    2   \n",
       "1                    1                      5      ...                    2   \n",
       "2                    0                      2      ...                    1   \n",
       "3                    0                      2      ...                    2   \n",
       "4                    0                      2      ...                    2   \n",
       "\n",
       "   country_mother  country_self  citizenship  business_or_self_employed  \\\n",
       "0               1             1            1                          0   \n",
       "1               1             1            1                          0   \n",
       "2               0             0            0                          0   \n",
       "3               1             1            1                          0   \n",
       "4               1             1            1                          0   \n",
       "\n",
       "   fill_questionnaire_veteran_admin  veterans_benefits  weeks_worked_in_year  \\\n",
       "0                                 0                  2                     0   \n",
       "1                                 0                  2                    52   \n",
       "2                                 0                  2                     0   \n",
       "3                                 0                  0                     0   \n",
       "4                                 0                  0                     0   \n",
       "\n",
       "   year  income_level  \n",
       "0    95             0  \n",
       "1    94             0  \n",
       "2    95             0  \n",
       "3    94             0  \n",
       "4    94             0  \n",
       "\n",
       "[5 rows x 37 columns]"
      ]
     },
     "execution_count": 30,
     "metadata": {},
     "output_type": "execute_result"
    }
   ],
   "source": [
    "for each in cat_df:\n",
    "    name=each\n",
    "    df_train[name] = lb_make.fit_transform(list(df_train[each].values))\n",
    "    \n",
    "df_train.head()"
   ]
  },
  {
   "cell_type": "markdown",
   "metadata": {},
   "source": [
    "# Test Data"
   ]
  },
  {
   "cell_type": "code",
   "execution_count": 31,
   "metadata": {},
   "outputs": [
    {
     "data": {
      "text/html": [
       "<div>\n",
       "<table border=\"1\" class=\"dataframe\">\n",
       "  <thead>\n",
       "    <tr style=\"text-align: right;\">\n",
       "      <th></th>\n",
       "      <th>age</th>\n",
       "      <th>class_of_worker</th>\n",
       "      <th>industry_code</th>\n",
       "      <th>occupation_code</th>\n",
       "      <th>education</th>\n",
       "      <th>wage_per_hour</th>\n",
       "      <th>enrolled_in_edu_inst_lastwk</th>\n",
       "      <th>marital_status</th>\n",
       "      <th>major_industry_code</th>\n",
       "      <th>major_occupation_code</th>\n",
       "      <th>...</th>\n",
       "      <th>country_father</th>\n",
       "      <th>country_mother</th>\n",
       "      <th>country_self</th>\n",
       "      <th>citizenship</th>\n",
       "      <th>business_or_self_employed</th>\n",
       "      <th>fill_questionnaire_veteran_admin</th>\n",
       "      <th>veterans_benefits</th>\n",
       "      <th>weeks_worked_in_year</th>\n",
       "      <th>year</th>\n",
       "      <th>income_level</th>\n",
       "    </tr>\n",
       "  </thead>\n",
       "  <tbody>\n",
       "    <tr>\n",
       "      <th>0</th>\n",
       "      <td>38</td>\n",
       "      <td>1</td>\n",
       "      <td>6</td>\n",
       "      <td>36</td>\n",
       "      <td>4</td>\n",
       "      <td>0</td>\n",
       "      <td>0</td>\n",
       "      <td>1</td>\n",
       "      <td>2</td>\n",
       "      <td>7</td>\n",
       "      <td>...</td>\n",
       "      <td>0</td>\n",
       "      <td>1</td>\n",
       "      <td>1</td>\n",
       "      <td>0</td>\n",
       "      <td>0</td>\n",
       "      <td>0</td>\n",
       "      <td>2</td>\n",
       "      <td>12</td>\n",
       "      <td>95</td>\n",
       "      <td>0</td>\n",
       "    </tr>\n",
       "    <tr>\n",
       "      <th>1</th>\n",
       "      <td>44</td>\n",
       "      <td>2</td>\n",
       "      <td>37</td>\n",
       "      <td>12</td>\n",
       "      <td>4</td>\n",
       "      <td>0</td>\n",
       "      <td>0</td>\n",
       "      <td>1</td>\n",
       "      <td>2</td>\n",
       "      <td>5</td>\n",
       "      <td>...</td>\n",
       "      <td>1</td>\n",
       "      <td>0</td>\n",
       "      <td>0</td>\n",
       "      <td>1</td>\n",
       "      <td>0</td>\n",
       "      <td>0</td>\n",
       "      <td>2</td>\n",
       "      <td>26</td>\n",
       "      <td>95</td>\n",
       "      <td>0</td>\n",
       "    </tr>\n",
       "    <tr>\n",
       "      <th>2</th>\n",
       "      <td>2</td>\n",
       "      <td>0</td>\n",
       "      <td>0</td>\n",
       "      <td>0</td>\n",
       "      <td>1</td>\n",
       "      <td>0</td>\n",
       "      <td>0</td>\n",
       "      <td>2</td>\n",
       "      <td>0</td>\n",
       "      <td>2</td>\n",
       "      <td>...</td>\n",
       "      <td>1</td>\n",
       "      <td>0</td>\n",
       "      <td>0</td>\n",
       "      <td>1</td>\n",
       "      <td>0</td>\n",
       "      <td>0</td>\n",
       "      <td>0</td>\n",
       "      <td>0</td>\n",
       "      <td>95</td>\n",
       "      <td>0</td>\n",
       "    </tr>\n",
       "    <tr>\n",
       "      <th>3</th>\n",
       "      <td>35</td>\n",
       "      <td>1</td>\n",
       "      <td>29</td>\n",
       "      <td>3</td>\n",
       "      <td>2</td>\n",
       "      <td>0</td>\n",
       "      <td>0</td>\n",
       "      <td>0</td>\n",
       "      <td>2</td>\n",
       "      <td>1</td>\n",
       "      <td>...</td>\n",
       "      <td>1</td>\n",
       "      <td>0</td>\n",
       "      <td>0</td>\n",
       "      <td>1</td>\n",
       "      <td>2</td>\n",
       "      <td>0</td>\n",
       "      <td>2</td>\n",
       "      <td>52</td>\n",
       "      <td>94</td>\n",
       "      <td>0</td>\n",
       "    </tr>\n",
       "    <tr>\n",
       "      <th>4</th>\n",
       "      <td>49</td>\n",
       "      <td>1</td>\n",
       "      <td>4</td>\n",
       "      <td>34</td>\n",
       "      <td>2</td>\n",
       "      <td>0</td>\n",
       "      <td>0</td>\n",
       "      <td>0</td>\n",
       "      <td>2</td>\n",
       "      <td>4</td>\n",
       "      <td>...</td>\n",
       "      <td>1</td>\n",
       "      <td>0</td>\n",
       "      <td>0</td>\n",
       "      <td>1</td>\n",
       "      <td>0</td>\n",
       "      <td>0</td>\n",
       "      <td>2</td>\n",
       "      <td>50</td>\n",
       "      <td>95</td>\n",
       "      <td>0</td>\n",
       "    </tr>\n",
       "  </tbody>\n",
       "</table>\n",
       "<p>5 rows × 41 columns</p>\n",
       "</div>"
      ],
      "text/plain": [
       "   age  class_of_worker  industry_code  occupation_code  education  \\\n",
       "0   38                1              6               36          4   \n",
       "1   44                2             37               12          4   \n",
       "2    2                0              0                0          1   \n",
       "3   35                1             29                3          2   \n",
       "4   49                1              4               34          2   \n",
       "\n",
       "   wage_per_hour  enrolled_in_edu_inst_lastwk  marital_status  \\\n",
       "0              0                            0               1   \n",
       "1              0                            0               1   \n",
       "2              0                            0               2   \n",
       "3              0                            0               0   \n",
       "4              0                            0               0   \n",
       "\n",
       "   major_industry_code  major_occupation_code      ...       country_father  \\\n",
       "0                    2                      7      ...                    0   \n",
       "1                    2                      5      ...                    1   \n",
       "2                    0                      2      ...                    1   \n",
       "3                    2                      1      ...                    1   \n",
       "4                    2                      4      ...                    1   \n",
       "\n",
       "   country_mother  country_self  citizenship  business_or_self_employed  \\\n",
       "0               1             1            0                          0   \n",
       "1               0             0            1                          0   \n",
       "2               0             0            1                          0   \n",
       "3               0             0            1                          2   \n",
       "4               0             0            1                          0   \n",
       "\n",
       "   fill_questionnaire_veteran_admin  veterans_benefits  weeks_worked_in_year  \\\n",
       "0                                 0                  2                    12   \n",
       "1                                 0                  2                    26   \n",
       "2                                 0                  0                     0   \n",
       "3                                 0                  2                    52   \n",
       "4                                 0                  2                    50   \n",
       "\n",
       "   year  income_level  \n",
       "0    95             0  \n",
       "1    95             0  \n",
       "2    95             0  \n",
       "3    94             0  \n",
       "4    95             0  \n",
       "\n",
       "[5 rows x 41 columns]"
      ]
     },
     "execution_count": 31,
     "metadata": {},
     "output_type": "execute_result"
    }
   ],
   "source": [
    "for each in cat_df:\n",
    "    name=each\n",
    "    df_test[name] = lb_make.fit_transform(list(df_test[each].values))\n",
    "    \n",
    "df_test.head()"
   ]
  },
  {
   "cell_type": "code",
   "execution_count": 32,
   "metadata": {},
   "outputs": [
    {
     "data": {
      "text/plain": [
       "Index(['age', 'class_of_worker', 'industry_code', 'occupation_code',\n",
       "       'education', 'wage_per_hour', 'enrolled_in_edu_inst_lastwk',\n",
       "       'marital_status', 'major_industry_code', 'major_occupation_code',\n",
       "       'race', 'hispanic_origin', 'sex', 'member_of_labor_union',\n",
       "       'reason_for_unemployment', 'full_parttime_employment_stat',\n",
       "       'capital_gains', 'capital_losses', 'dividend_from_Stocks',\n",
       "       'tax_filer_status', 'region_of_previous_residence',\n",
       "       'state_of_previous_residence', 'd_household_family_stat',\n",
       "       'd_household_summary', 'live_1_year_ago', 'num_person_Worked_employer',\n",
       "       'family_members_under_18', 'country_father', 'country_mother',\n",
       "       'country_self', 'citizenship', 'business_or_self_employed',\n",
       "       'fill_questionnaire_veteran_admin', 'veterans_benefits',\n",
       "       'weeks_worked_in_year', 'year', 'income_level'],\n",
       "      dtype='object')"
      ]
     },
     "execution_count": 32,
     "metadata": {},
     "output_type": "execute_result"
    }
   ],
   "source": [
    "df_train.columns"
   ]
  },
  {
   "cell_type": "markdown",
   "metadata": {
    "collapsed": true
   },
   "source": [
    "# Binning of Numerical Data"
   ]
  },
  {
   "cell_type": "code",
   "execution_count": 33,
   "metadata": {
    "collapsed": true
   },
   "outputs": [],
   "source": [
    "m=df_train"
   ]
  },
  {
   "cell_type": "code",
   "execution_count": 34,
   "metadata": {},
   "outputs": [],
   "source": [
    "bins=[0,15,20,45]\n",
    "x=pd.qcut(m['age'],4)"
   ]
  },
  {
   "cell_type": "code",
   "execution_count": 35,
   "metadata": {},
   "outputs": [
    {
     "data": {
      "text/plain": [
       "0    (50, 90]\n",
       "1    (50, 90]\n",
       "2    (15, 33]\n",
       "3     [0, 15]\n",
       "4     [0, 15]\n",
       "Name: age, dtype: category\n",
       "Categories (4, object): [[0, 15] < (15, 33] < (33, 50] < (50, 90]]"
      ]
     },
     "execution_count": 35,
     "metadata": {},
     "output_type": "execute_result"
    }
   ],
   "source": [
    "x.head()"
   ]
  },
  {
   "cell_type": "code",
   "execution_count": 36,
   "metadata": {},
   "outputs": [
    {
     "data": {
      "text/plain": [
       "array([73, 58, 18, ..., 47, 16, 32], dtype=int64)"
      ]
     },
     "execution_count": 36,
     "metadata": {},
     "output_type": "execute_result"
    }
   ],
   "source": [
    "m['age'].values"
   ]
  },
  {
   "cell_type": "code",
   "execution_count": 37,
   "metadata": {},
   "outputs": [
    {
     "data": {
      "text/plain": [
       "array([0, 0, 0, ..., 0, 0, 0], dtype=int64)"
      ]
     },
     "execution_count": 37,
     "metadata": {},
     "output_type": "execute_result"
    }
   ],
   "source": [
    "m['income_level'].values"
   ]
  },
  {
   "cell_type": "markdown",
   "metadata": {},
   "source": [
    "# Trying to bin it using decision tree classifier"
   ]
  },
  {
   "cell_type": "code",
   "execution_count": 38,
   "metadata": {},
   "outputs": [],
   "source": [
    "#from sklearn.model_selection import cross_val_score\n",
    "from sklearn.tree import DecisionTreeClassifier\n",
    "clf = DecisionTreeClassifier(random_state=0)\n",
    "#iris = load_iris()\n",
    "#cross_val_score(clf, iris.data, iris.target, cv=10)"
   ]
  },
  {
   "cell_type": "code",
   "execution_count": 39,
   "metadata": {},
   "outputs": [
    {
     "data": {
      "text/plain": [
       "DecisionTreeClassifier(class_weight=None, criterion='gini', max_depth=None,\n",
       "            max_features=None, max_leaf_nodes=None,\n",
       "            min_impurity_decrease=0.0, min_impurity_split=None,\n",
       "            min_samples_leaf=1, min_samples_split=2,\n",
       "            min_weight_fraction_leaf=0.0, presort=False, random_state=0,\n",
       "            splitter='best')"
      ]
     },
     "execution_count": 39,
     "metadata": {},
     "output_type": "execute_result"
    }
   ],
   "source": [
    "X=m['age'].values.reshape(-1,1)\n",
    "Y=list(m['income_level'].values)\n",
    "clf.fit(X,Y)"
   ]
  },
  {
   "cell_type": "code",
   "execution_count": 40,
   "metadata": {},
   "outputs": [],
   "source": [
    "from sklearn import tree\n",
    "\n",
    "with open(\"fruit_classifier.txt\", \"w\") as f:\n",
    "    f = tree.export_graphviz(clf, out_file=f)"
   ]
  },
  {
   "cell_type": "markdown",
   "metadata": {},
   "source": [
    "# MACHINE LEARNING"
   ]
  },
  {
   "cell_type": "code",
   "execution_count": 41,
   "metadata": {},
   "outputs": [
    {
     "data": {
      "text/plain": [
       "Index(['age', 'class_of_worker', 'industry_code', 'occupation_code',\n",
       "       'education', 'wage_per_hour', 'enrolled_in_edu_inst_lastwk',\n",
       "       'marital_status', 'major_industry_code', 'major_occupation_code',\n",
       "       'race', 'hispanic_origin', 'sex', 'member_of_labor_union',\n",
       "       'reason_for_unemployment', 'full_parttime_employment_stat',\n",
       "       'capital_gains', 'capital_losses', 'dividend_from_Stocks',\n",
       "       'tax_filer_status', 'region_of_previous_residence',\n",
       "       'state_of_previous_residence', 'd_household_family_stat',\n",
       "       'd_household_summary', 'live_1_year_ago', 'num_person_Worked_employer',\n",
       "       'family_members_under_18', 'country_father', 'country_mother',\n",
       "       'country_self', 'citizenship', 'business_or_self_employed',\n",
       "       'fill_questionnaire_veteran_admin', 'veterans_benefits',\n",
       "       'weeks_worked_in_year', 'year', 'income_level'],\n",
       "      dtype='object')"
      ]
     },
     "execution_count": 41,
     "metadata": {},
     "output_type": "execute_result"
    }
   ],
   "source": [
    "df_train.columns"
   ]
  },
  {
   "cell_type": "code",
   "execution_count": 42,
   "metadata": {},
   "outputs": [
    {
     "data": {
      "text/plain": [
       "Index(['age', 'class_of_worker', 'industry_code', 'occupation_code',\n",
       "       'education', 'wage_per_hour', 'enrolled_in_edu_inst_lastwk',\n",
       "       'marital_status', 'major_industry_code', 'major_occupation_code',\n",
       "       'race', 'hispanic_origin', 'sex', 'member_of_labor_union',\n",
       "       'reason_for_unemployment', 'full_parttime_employment_stat',\n",
       "       'capital_gains', 'capital_losses', 'dividend_from_Stocks',\n",
       "       'tax_filer_status', 'region_of_previous_residence',\n",
       "       'state_of_previous_residence', 'd_household_family_stat',\n",
       "       'd_household_summary', 'migration_msa', 'migration_reg',\n",
       "       'migration_within_reg', 'live_1_year_ago', 'migration_sunbelt',\n",
       "       'num_person_Worked_employer', 'family_members_under_18',\n",
       "       'country_father', 'country_mother', 'country_self', 'citizenship',\n",
       "       'business_or_self_employed', 'fill_questionnaire_veteran_admin',\n",
       "       'veterans_benefits', 'weeks_worked_in_year', 'year', 'income_level'],\n",
       "      dtype='object')"
      ]
     },
     "execution_count": 42,
     "metadata": {},
     "output_type": "execute_result"
    }
   ],
   "source": [
    "df_test.columns"
   ]
  },
  {
   "cell_type": "code",
   "execution_count": 43,
   "metadata": {},
   "outputs": [],
   "source": [
    "df_test.drop(['migration_msa','migration_reg','migration_within_reg','migration_sunbelt'],axis=1,inplace=True)"
   ]
  },
  {
   "cell_type": "markdown",
   "metadata": {},
   "source": [
    "# Variance for each variable"
   ]
  },
  {
   "cell_type": "markdown",
   "metadata": {},
   "source": [
    "##  For Categorial Features"
   ]
  },
  {
   "cell_type": "code",
   "execution_count": 44,
   "metadata": {
    "collapsed": true
   },
   "outputs": [],
   "source": [
    "n=df_train[list(cat_df.columns)]"
   ]
  },
  {
   "cell_type": "code",
   "execution_count": 45,
   "metadata": {},
   "outputs": [],
   "source": [
    "variances=pd.Series(df_train[list(cat_df.columns)].var(axis=0))\n"
   ]
  },
  {
   "cell_type": "code",
   "execution_count": 46,
   "metadata": {},
   "outputs": [
    {
     "data": {
      "text/plain": [
       "<matplotlib.text.Text at 0x2a24f885ba8>"
      ]
     },
     "execution_count": 46,
     "metadata": {},
     "output_type": "execute_result"
    },
    {
     "data": {
      "image/png": "[encoded data removed]",
      "text/plain": [
       "<matplotlib.figure.Figure at 0x2a246539ba8>"
      ]
     },
     "metadata": {},
     "output_type": "display_data"
    }
   ],
   "source": [
    "fig,ax=plt.subplots(1,1,figsize=(5,5))\n",
    "variances.loc[list(cat_df.columns)].sort_values().plot(kind='barh',ax=ax)\n",
    "ax.vlines(0.1,ymin=-1,ymax=25,colors='red')\n",
    "ax.set_title('Variances of Categorial features')"
   ]
  },
  {
   "cell_type": "code",
   "execution_count": 47,
   "metadata": {},
   "outputs": [],
   "source": [
    "lowVarianceVariable=['country_self','member_of_labor_union','region_of_previous_residence','state_of_previous_residence','enrolled_in_edu_inst_lastwk','reason_for_unemployment','fill_questionnaire_veteran_admin']\n",
    "\n",
    "for each in lowVarianceVariable:\n",
    "    df_train.drop(each,axis=1,inplace=True)\n",
    "    \n",
    "for each in lowVarianceVariable:\n",
    "    df_test.drop(each,axis=1,inplace=True)"
   ]
  },
  {
   "cell_type": "markdown",
   "metadata": {},
   "source": [
    "# Feature Selection :Selection of the k best features for CLASSIFICATION"
   ]
  },
  {
   "cell_type": "code",
   "execution_count": 48,
   "metadata": {
    "collapsed": true
   },
   "outputs": [],
   "source": [
    "df_train_target=df_train['income_level']\n",
    "df_test_target=df_test['income_level']"
   ]
  },
  {
   "cell_type": "code",
   "execution_count": 49,
   "metadata": {},
   "outputs": [],
   "source": [
    "df_train.drop(['income_level'],axis=1,inplace=True)\n",
    "df_test.drop(['income_level'],axis=1,inplace=True)"
   ]
  },
  {
   "cell_type": "markdown",
   "metadata": {},
   "source": [
    "## For Categorial value"
   ]
  },
  {
   "cell_type": "code",
   "execution_count": 50,
   "metadata": {},
   "outputs": [],
   "source": [
    "from sklearn.feature_selection import SelectKBest\n",
    "from sklearn.feature_selection import chi2"
   ]
  },
  {
   "cell_type": "code",
   "execution_count": 51,
   "metadata": {},
   "outputs": [
    {
     "data": {
      "text/plain": [
       "SelectKBest(k='all', score_func=<function chi2 at 0x000002A2474C8488>)"
      ]
     },
     "execution_count": 51,
     "metadata": {},
     "output_type": "execute_result"
    }
   ],
   "source": [
    "dummy_selector=SelectKBest(chi2,k=\"all\")\n",
    "dummy_selector.fit(df_train,df_train_target)"
   ]
  },
  {
   "cell_type": "code",
   "execution_count": 52,
   "metadata": {},
   "outputs": [
    {
     "name": "stdout",
     "output_type": "stream",
     "text": [
      "[ 0  1  2  3  4  5  6  7  8  9 10 11 12 13 14 15 16 17 18 19 20 21 22 23 24\n",
      " 25 26 27 28]\n"
     ]
    }
   ],
   "source": [
    "print (dummy_selector.get_support(indices=True))"
   ]
  },
  {
   "cell_type": "code",
   "execution_count": 53,
   "metadata": {},
   "outputs": [],
   "source": [
    "vector_names = list(df_train.columns[dummy_selector.get_support(indices=True)])\n",
    "featureImportance_df=pd.DataFrame()\n",
    "for (name,score) in zip(vector_names,dummy_selector.scores_):\n",
    "    \n",
    "    data=pd.DataFrame({\"Feature\":[name],\"Score\":score})\n",
    "    \n",
    "    featureImportance_df=featureImportance_df.append(data)\n",
    "    \n",
    "featureImportance_df.sort_values('Score',ascending=False,inplace=True)\n",
    "featureImportance_df.set_index('Feature',inplace=True)"
   ]
  },
  {
   "cell_type": "code",
   "execution_count": 54,
   "metadata": {},
   "outputs": [
    {
     "data": {
      "image/png": "[encoded data removed]",
      "text/plain": [
       "<matplotlib.figure.Figure at 0x2a24769f3c8>"
      ]
     },
     "metadata": {},
     "output_type": "display_data"
    }
   ],
   "source": [
    "fig,ax=plt.subplots(1,1,figsize=(7,7))\n",
    "featureImportance_df.sort_values('Score',ascending=False).plot(kind='barh',ax=ax)\n",
    "plt.show()"
   ]
  },
  {
   "cell_type": "code",
   "execution_count": 55,
   "metadata": {},
   "outputs": [
    {
     "data": {
      "text/plain": [
       "array([  5.30357651e+04,   6.69269542e+03,   1.63285428e+05,\n",
       "         6.63385633e+02,   3.85786711e+01,   1.63659072e+05,\n",
       "         1.73425335e+03,   3.81288343e+03,   4.57386638e+03,\n",
       "         1.28942771e+02,   7.51100306e+02,   2.58305152e+03,\n",
       "         1.29277727e+02,   5.86898878e+08,   8.59061060e+06,\n",
       "         1.22871166e+08,   1.70680875e+03,   1.59991108e+02,\n",
       "         4.41961447e+02,   1.36338360e+01,   2.40185380e+04,\n",
       "         1.61099834e+03,   4.18616559e+01,   1.97019014e+01,\n",
       "         2.32509663e+01,   5.71119727e+02,   1.89659191e+03,\n",
       "         3.53029907e+05,   1.15521017e-01])"
      ]
     },
     "execution_count": 55,
     "metadata": {},
     "output_type": "execute_result"
    }
   ],
   "source": [
    "dummy_selector.scores_"
   ]
  },
  {
   "cell_type": "code",
   "execution_count": 56,
   "metadata": {},
   "outputs": [
    {
     "data": {
      "text/plain": [
       "array([  0.00000000e+000,   0.00000000e+000,   0.00000000e+000,\n",
       "         2.74185723e-146,   5.25905056e-010,   0.00000000e+000,\n",
       "         0.00000000e+000,   0.00000000e+000,   0.00000000e+000,\n",
       "         6.98022596e-030,   2.31289424e-165,   0.00000000e+000,\n",
       "         5.89630187e-030,   0.00000000e+000,   0.00000000e+000,\n",
       "         0.00000000e+000,   0.00000000e+000,   1.13655655e-036,\n",
       "         4.05099626e-098,   2.22145537e-004,   0.00000000e+000,\n",
       "         0.00000000e+000,   9.79650385e-011,   9.05112621e-006,\n",
       "         1.42178995e-006,   3.20439695e-126,   0.00000000e+000,\n",
       "         0.00000000e+000,   7.33944015e-001])"
      ]
     },
     "execution_count": 56,
     "metadata": {},
     "output_type": "execute_result"
    }
   ],
   "source": [
    "dummy_selector.pvalues_"
   ]
  },
  {
   "cell_type": "markdown",
   "metadata": {},
   "source": [
    "## Feature Importance using Decision Tree"
   ]
  },
  {
   "cell_type": "code",
   "execution_count": 57,
   "metadata": {},
   "outputs": [
    {
     "data": {
      "text/plain": [
       "DecisionTreeClassifier(class_weight=None, criterion='gini', max_depth=None,\n",
       "            max_features=None, max_leaf_nodes=None,\n",
       "            min_impurity_decrease=0.0, min_impurity_split=None,\n",
       "            min_samples_leaf=1, min_samples_split=2,\n",
       "            min_weight_fraction_leaf=0.0, presort=False, random_state=0,\n",
       "            splitter='best')"
      ]
     },
     "execution_count": 57,
     "metadata": {},
     "output_type": "execute_result"
    }
   ],
   "source": [
    "from sklearn.tree import DecisionTreeClassifier\n",
    "clf = DecisionTreeClassifier(criterion='gini',random_state=0)\n",
    "clf.fit(df_train,df_train_target)"
   ]
  },
  {
   "cell_type": "code",
   "execution_count": 58,
   "metadata": {},
   "outputs": [
    {
     "data": {
      "image/png": "[encoded data removed]",
      "text/plain": [
       "<matplotlib.figure.Figure at 0x2a2476bc588>"
      ]
     },
     "metadata": {},
     "output_type": "display_data"
    }
   ],
   "source": [
    "importance=clf.feature_importances_\n",
    "importance = pd.DataFrame(importance, index=df_train.columns, \n",
    "                          columns=[\"Importance\"])\n",
    "\n",
    "#importance[\"Std\"] = np.std([tree.feature_importances_\n",
    "#                            for tree in clf.estimators_], axis=0)\n",
    "\n",
    "x = range(importance.shape[0])\n",
    "y = importance.ix[:, 0]\n",
    "#yerr = importance.ix[:, 1]\n",
    "\n",
    "plt.bar(x, y, align=\"center\")\n",
    "\n",
    "plt.show()"
   ]
  },
  {
   "cell_type": "code",
   "execution_count": 59,
   "metadata": {},
   "outputs": [
    {
     "data": {
      "text/html": [
       "<div>\n",
       "<table border=\"1\" class=\"dataframe\">\n",
       "  <thead>\n",
       "    <tr style=\"text-align: right;\">\n",
       "      <th></th>\n",
       "      <th>Importance</th>\n",
       "    </tr>\n",
       "  </thead>\n",
       "  <tbody>\n",
       "    <tr>\n",
       "      <th>age</th>\n",
       "      <td>0.141924</td>\n",
       "    </tr>\n",
       "    <tr>\n",
       "      <th>capital_gains</th>\n",
       "      <td>0.130342</td>\n",
       "    </tr>\n",
       "    <tr>\n",
       "      <th>occupation_code</th>\n",
       "      <td>0.110592</td>\n",
       "    </tr>\n",
       "    <tr>\n",
       "      <th>dividend_from_Stocks</th>\n",
       "      <td>0.094145</td>\n",
       "    </tr>\n",
       "    <tr>\n",
       "      <th>industry_code</th>\n",
       "      <td>0.077050</td>\n",
       "    </tr>\n",
       "    <tr>\n",
       "      <th>weeks_worked_in_year</th>\n",
       "      <td>0.072515</td>\n",
       "    </tr>\n",
       "    <tr>\n",
       "      <th>sex</th>\n",
       "      <td>0.040665</td>\n",
       "    </tr>\n",
       "    <tr>\n",
       "      <th>num_person_Worked_employer</th>\n",
       "      <td>0.040490</td>\n",
       "    </tr>\n",
       "    <tr>\n",
       "      <th>education</th>\n",
       "      <td>0.038620</td>\n",
       "    </tr>\n",
       "    <tr>\n",
       "      <th>capital_losses</th>\n",
       "      <td>0.030982</td>\n",
       "    </tr>\n",
       "    <tr>\n",
       "      <th>full_parttime_employment_stat</th>\n",
       "      <td>0.019027</td>\n",
       "    </tr>\n",
       "    <tr>\n",
       "      <th>tax_filer_status</th>\n",
       "      <td>0.017221</td>\n",
       "    </tr>\n",
       "    <tr>\n",
       "      <th>live_1_year_ago</th>\n",
       "      <td>0.017111</td>\n",
       "    </tr>\n",
       "    <tr>\n",
       "      <th>business_or_self_employed</th>\n",
       "      <td>0.016512</td>\n",
       "    </tr>\n",
       "    <tr>\n",
       "      <th>d_household_family_stat</th>\n",
       "      <td>0.016056</td>\n",
       "    </tr>\n",
       "    <tr>\n",
       "      <th>wage_per_hour</th>\n",
       "      <td>0.015403</td>\n",
       "    </tr>\n",
       "    <tr>\n",
       "      <th>class_of_worker</th>\n",
       "      <td>0.014612</td>\n",
       "    </tr>\n",
       "    <tr>\n",
       "      <th>marital_status</th>\n",
       "      <td>0.013976</td>\n",
       "    </tr>\n",
       "    <tr>\n",
       "      <th>major_occupation_code</th>\n",
       "      <td>0.013749</td>\n",
       "    </tr>\n",
       "    <tr>\n",
       "      <th>race</th>\n",
       "      <td>0.012865</td>\n",
       "    </tr>\n",
       "    <tr>\n",
       "      <th>country_father</th>\n",
       "      <td>0.010912</td>\n",
       "    </tr>\n",
       "    <tr>\n",
       "      <th>citizenship</th>\n",
       "      <td>0.010670</td>\n",
       "    </tr>\n",
       "    <tr>\n",
       "      <th>d_household_summary</th>\n",
       "      <td>0.010616</td>\n",
       "    </tr>\n",
       "    <tr>\n",
       "      <th>country_mother</th>\n",
       "      <td>0.009330</td>\n",
       "    </tr>\n",
       "    <tr>\n",
       "      <th>year</th>\n",
       "      <td>0.009188</td>\n",
       "    </tr>\n",
       "    <tr>\n",
       "      <th>hispanic_origin</th>\n",
       "      <td>0.006523</td>\n",
       "    </tr>\n",
       "    <tr>\n",
       "      <th>major_industry_code</th>\n",
       "      <td>0.005790</td>\n",
       "    </tr>\n",
       "    <tr>\n",
       "      <th>veterans_benefits</th>\n",
       "      <td>0.003117</td>\n",
       "    </tr>\n",
       "    <tr>\n",
       "      <th>family_members_under_18</th>\n",
       "      <td>0.000000</td>\n",
       "    </tr>\n",
       "  </tbody>\n",
       "</table>\n",
       "</div>"
      ],
      "text/plain": [
       "                               Importance\n",
       "age                              0.141924\n",
       "capital_gains                    0.130342\n",
       "occupation_code                  0.110592\n",
       "dividend_from_Stocks             0.094145\n",
       "industry_code                    0.077050\n",
       "weeks_worked_in_year             0.072515\n",
       "sex                              0.040665\n",
       "num_person_Worked_employer       0.040490\n",
       "education                        0.038620\n",
       "capital_losses                   0.030982\n",
       "full_parttime_employment_stat    0.019027\n",
       "tax_filer_status                 0.017221\n",
       "live_1_year_ago                  0.017111\n",
       "business_or_self_employed        0.016512\n",
       "d_household_family_stat          0.016056\n",
       "wage_per_hour                    0.015403\n",
       "class_of_worker                  0.014612\n",
       "marital_status                   0.013976\n",
       "major_occupation_code            0.013749\n",
       "race                             0.012865\n",
       "country_father                   0.010912\n",
       "citizenship                      0.010670\n",
       "d_household_summary              0.010616\n",
       "country_mother                   0.009330\n",
       "year                             0.009188\n",
       "hispanic_origin                  0.006523\n",
       "major_industry_code              0.005790\n",
       "veterans_benefits                0.003117\n",
       "family_members_under_18          0.000000"
      ]
     },
     "execution_count": 59,
     "metadata": {},
     "output_type": "execute_result"
    }
   ],
   "source": [
    "importance.sort_values('Importance',ascending=False)"
   ]
  },
  {
   "cell_type": "markdown",
   "metadata": {},
   "source": [
    "## Feature Importance using Random Forest"
   ]
  },
  {
   "cell_type": "code",
   "execution_count": 60,
   "metadata": {},
   "outputs": [
    {
     "data": {
      "image/png": "[encoded data removed]",
      "text/plain": [
       "<matplotlib.figure.Figure at 0x2a247899470>"
      ]
     },
     "metadata": {},
     "output_type": "display_data"
    }
   ],
   "source": [
    "from sklearn.ensemble import RandomForestClassifier\n",
    "\n",
    "clf = RandomForestClassifier()\n",
    "clf.fit(df_train,df_train_target)\n",
    "\n",
    "importance = clf.feature_importances_\n",
    "importance = pd.DataFrame(importance, index=df_train.columns, \n",
    "                          columns=[\"Importance\"])\n",
    "\n",
    "importance[\"Std\"] = np.std([tree.feature_importances_\n",
    "                            for tree in clf.estimators_], axis=0)\n",
    "\n",
    "x = range(importance.shape[0])\n",
    "y = importance.ix[:, 0]\n",
    "yerr = importance.ix[:, 1]\n",
    "\n",
    "plt.bar(x, y, yerr=yerr, align=\"center\")\n",
    "\n",
    "plt.show()"
   ]
  },
  {
   "cell_type": "code",
   "execution_count": 61,
   "metadata": {},
   "outputs": [
    {
     "data": {
      "text/html": [
       "<div>\n",
       "<table border=\"1\" class=\"dataframe\">\n",
       "  <thead>\n",
       "    <tr style=\"text-align: right;\">\n",
       "      <th></th>\n",
       "      <th>Importance</th>\n",
       "      <th>Std</th>\n",
       "    </tr>\n",
       "  </thead>\n",
       "  <tbody>\n",
       "    <tr>\n",
       "      <th>age</th>\n",
       "      <td>0.138140</td>\n",
       "      <td>0.007998</td>\n",
       "    </tr>\n",
       "    <tr>\n",
       "      <th>dividend_from_Stocks</th>\n",
       "      <td>0.104769</td>\n",
       "      <td>0.013480</td>\n",
       "    </tr>\n",
       "    <tr>\n",
       "      <th>occupation_code</th>\n",
       "      <td>0.088752</td>\n",
       "      <td>0.017869</td>\n",
       "    </tr>\n",
       "    <tr>\n",
       "      <th>industry_code</th>\n",
       "      <td>0.088522</td>\n",
       "      <td>0.016878</td>\n",
       "    </tr>\n",
       "    <tr>\n",
       "      <th>capital_gains</th>\n",
       "      <td>0.087025</td>\n",
       "      <td>0.019136</td>\n",
       "    </tr>\n",
       "    <tr>\n",
       "      <th>weeks_worked_in_year</th>\n",
       "      <td>0.054417</td>\n",
       "      <td>0.024917</td>\n",
       "    </tr>\n",
       "    <tr>\n",
       "      <th>num_person_Worked_employer</th>\n",
       "      <td>0.049105</td>\n",
       "      <td>0.008809</td>\n",
       "    </tr>\n",
       "    <tr>\n",
       "      <th>education</th>\n",
       "      <td>0.044620</td>\n",
       "      <td>0.003038</td>\n",
       "    </tr>\n",
       "    <tr>\n",
       "      <th>major_occupation_code</th>\n",
       "      <td>0.043117</td>\n",
       "      <td>0.023492</td>\n",
       "    </tr>\n",
       "    <tr>\n",
       "      <th>sex</th>\n",
       "      <td>0.039249</td>\n",
       "      <td>0.006155</td>\n",
       "    </tr>\n",
       "    <tr>\n",
       "      <th>capital_losses</th>\n",
       "      <td>0.028201</td>\n",
       "      <td>0.004569</td>\n",
       "    </tr>\n",
       "    <tr>\n",
       "      <th>tax_filer_status</th>\n",
       "      <td>0.021102</td>\n",
       "      <td>0.009780</td>\n",
       "    </tr>\n",
       "    <tr>\n",
       "      <th>full_parttime_employment_stat</th>\n",
       "      <td>0.018286</td>\n",
       "      <td>0.001950</td>\n",
       "    </tr>\n",
       "    <tr>\n",
       "      <th>business_or_self_employed</th>\n",
       "      <td>0.018202</td>\n",
       "      <td>0.001103</td>\n",
       "    </tr>\n",
       "    <tr>\n",
       "      <th>marital_status</th>\n",
       "      <td>0.016993</td>\n",
       "      <td>0.003762</td>\n",
       "    </tr>\n",
       "    <tr>\n",
       "      <th>live_1_year_ago</th>\n",
       "      <td>0.016907</td>\n",
       "      <td>0.001099</td>\n",
       "    </tr>\n",
       "    <tr>\n",
       "      <th>d_household_family_stat</th>\n",
       "      <td>0.016565</td>\n",
       "      <td>0.002205</td>\n",
       "    </tr>\n",
       "    <tr>\n",
       "      <th>class_of_worker</th>\n",
       "      <td>0.016223</td>\n",
       "      <td>0.002444</td>\n",
       "    </tr>\n",
       "    <tr>\n",
       "      <th>major_industry_code</th>\n",
       "      <td>0.015747</td>\n",
       "      <td>0.013722</td>\n",
       "    </tr>\n",
       "    <tr>\n",
       "      <th>wage_per_hour</th>\n",
       "      <td>0.014957</td>\n",
       "      <td>0.000568</td>\n",
       "    </tr>\n",
       "    <tr>\n",
       "      <th>country_father</th>\n",
       "      <td>0.012441</td>\n",
       "      <td>0.000903</td>\n",
       "    </tr>\n",
       "    <tr>\n",
       "      <th>race</th>\n",
       "      <td>0.012427</td>\n",
       "      <td>0.001366</td>\n",
       "    </tr>\n",
       "    <tr>\n",
       "      <th>year</th>\n",
       "      <td>0.011614</td>\n",
       "      <td>0.000844</td>\n",
       "    </tr>\n",
       "    <tr>\n",
       "      <th>d_household_summary</th>\n",
       "      <td>0.011253</td>\n",
       "      <td>0.001720</td>\n",
       "    </tr>\n",
       "    <tr>\n",
       "      <th>country_mother</th>\n",
       "      <td>0.010422</td>\n",
       "      <td>0.000860</td>\n",
       "    </tr>\n",
       "    <tr>\n",
       "      <th>citizenship</th>\n",
       "      <td>0.009862</td>\n",
       "      <td>0.001171</td>\n",
       "    </tr>\n",
       "    <tr>\n",
       "      <th>hispanic_origin</th>\n",
       "      <td>0.007611</td>\n",
       "      <td>0.000903</td>\n",
       "    </tr>\n",
       "    <tr>\n",
       "      <th>veterans_benefits</th>\n",
       "      <td>0.003361</td>\n",
       "      <td>0.000543</td>\n",
       "    </tr>\n",
       "    <tr>\n",
       "      <th>family_members_under_18</th>\n",
       "      <td>0.000109</td>\n",
       "      <td>0.000263</td>\n",
       "    </tr>\n",
       "  </tbody>\n",
       "</table>\n",
       "</div>"
      ],
      "text/plain": [
       "                               Importance       Std\n",
       "age                              0.138140  0.007998\n",
       "dividend_from_Stocks             0.104769  0.013480\n",
       "occupation_code                  0.088752  0.017869\n",
       "industry_code                    0.088522  0.016878\n",
       "capital_gains                    0.087025  0.019136\n",
       "weeks_worked_in_year             0.054417  0.024917\n",
       "num_person_Worked_employer       0.049105  0.008809\n",
       "education                        0.044620  0.003038\n",
       "major_occupation_code            0.043117  0.023492\n",
       "sex                              0.039249  0.006155\n",
       "capital_losses                   0.028201  0.004569\n",
       "tax_filer_status                 0.021102  0.009780\n",
       "full_parttime_employment_stat    0.018286  0.001950\n",
       "business_or_self_employed        0.018202  0.001103\n",
       "marital_status                   0.016993  0.003762\n",
       "live_1_year_ago                  0.016907  0.001099\n",
       "d_household_family_stat          0.016565  0.002205\n",
       "class_of_worker                  0.016223  0.002444\n",
       "major_industry_code              0.015747  0.013722\n",
       "wage_per_hour                    0.014957  0.000568\n",
       "country_father                   0.012441  0.000903\n",
       "race                             0.012427  0.001366\n",
       "year                             0.011614  0.000844\n",
       "d_household_summary              0.011253  0.001720\n",
       "country_mother                   0.010422  0.000860\n",
       "citizenship                      0.009862  0.001171\n",
       "hispanic_origin                  0.007611  0.000903\n",
       "veterans_benefits                0.003361  0.000543\n",
       "family_members_under_18          0.000109  0.000263"
      ]
     },
     "execution_count": 61,
     "metadata": {},
     "output_type": "execute_result"
    }
   ],
   "source": [
    "importance.sort_values('Importance',ascending=False)"
   ]
  },
  {
   "cell_type": "markdown",
   "metadata": {},
   "source": [
    "## For Numerical Features"
   ]
  },
  {
   "cell_type": "code",
   "execution_count": 62,
   "metadata": {
    "collapsed": true
   },
   "outputs": [],
   "source": [
    "from sklearn.feature_selection import f_classif"
   ]
  },
  {
   "cell_type": "code",
   "execution_count": 63,
   "metadata": {},
   "outputs": [
    {
     "data": {
      "text/plain": [
       "SelectKBest(k='all', score_func=<function f_classif at 0x000002A2474C8048>)"
      ]
     },
     "execution_count": 63,
     "metadata": {},
     "output_type": "execute_result"
    }
   ],
   "source": [
    "num_selector=SelectKBest(f_classif,k='all')\n",
    "num_selector.fit(df_train[list(num_df.columns)],df_train_target)"
   ]
  },
  {
   "cell_type": "code",
   "execution_count": 64,
   "metadata": {},
   "outputs": [
    {
     "data": {
      "text/plain": [
       "array([  0.00000000e+00,   0.00000000e+00,   2.07273713e-09,\n",
       "         6.09367235e-28,   0.00000000e+00,   0.00000000e+00,\n",
       "         0.00000000e+00,   4.14083116e-73,   0.00000000e+00,\n",
       "         0.00000000e+00,   3.88477360e-11])"
      ]
     },
     "execution_count": 64,
     "metadata": {},
     "output_type": "execute_result"
    }
   ],
   "source": [
    "num_selector.pvalues_"
   ]
  },
  {
   "cell_type": "code",
   "execution_count": 65,
   "metadata": {},
   "outputs": [
    {
     "data": {
      "text/plain": [
       "Series([], dtype: object)"
      ]
     },
     "execution_count": 65,
     "metadata": {},
     "output_type": "execute_result"
    }
   ],
   "source": [
    "pd.Series(list(num_df.columns)).loc[num_selector.pvalues_>0.1]"
   ]
  },
  {
   "cell_type": "code",
   "execution_count": null,
   "metadata": {
    "collapsed": true
   },
   "outputs": [],
   "source": []
  },
  {
   "cell_type": "markdown",
   "metadata": {},
   "source": [
    "# Sampling using IMBLEARN"
   ]
  },
  {
   "cell_type": "markdown",
   "metadata": {},
   "source": [
    "### Converting data as input feature format"
   ]
  },
  {
   "cell_type": "code",
   "execution_count": 66,
   "metadata": {},
   "outputs": [],
   "source": [
    "X=df_train.as_matrix(columns=None).astype('int')\n",
    "Y=np.array(df_train_target).astype('int')\n",
    "\n",
    "\n",
    "X_test=df_test.as_matrix(columns=None).astype('int')\n",
    "Y_test=np.array(df_test_target).astype('int')"
   ]
  },
  {
   "cell_type": "markdown",
   "metadata": {},
   "source": [
    "###  Splitting the data into train and validation set"
   ]
  },
  {
   "cell_type": "code",
   "execution_count": 67,
   "metadata": {},
   "outputs": [
    {
     "name": "stdout",
     "output_type": "stream",
     "text": [
      "Original dataset shape Counter({0: 168387, 1: 11183})\n"
     ]
    }
   ],
   "source": [
    "from sklearn.model_selection import train_test_split\n",
    "from collections import Counter\n",
    "\n",
    "\n",
    "x_train, x_val, y_train, y_val = train_test_split(X,Y,test_size = .1,random_state=12)\n",
    "\n",
    "print('Original dataset shape {}'.format(Counter(y_train)))"
   ]
  },
  {
   "cell_type": "markdown",
   "metadata": {},
   "source": [
    "### SMOTE(Synthetic Minority Oversampling Technique )"
   ]
  },
  {
   "cell_type": "code",
   "execution_count": 68,
   "metadata": {},
   "outputs": [
    {
     "name": "stdout",
     "output_type": "stream",
     "text": [
      "Sampled dataset shape Counter({0: 168387, 1: 168387})\n"
     ]
    }
   ],
   "source": [
    "from imblearn.over_sampling import SMOTE\n",
    "\n",
    "\n",
    "sm = SMOTE(ratio='auto',random_state=12,k_neighbors=3)\n",
    "x_train_res, y_train_res = sm.fit_sample(x_train,y_train)\n",
    "\n",
    "print('Sampled dataset shape {}'.format(Counter(y_train_res)))"
   ]
  },
  {
   "cell_type": "markdown",
   "metadata": {},
   "source": [
    "# Training the Model"
   ]
  },
  {
   "cell_type": "markdown",
   "metadata": {},
   "source": [
    "### Trying Random Forest"
   ]
  },
  {
   "cell_type": "code",
   "execution_count": 69,
   "metadata": {},
   "outputs": [
    {
     "data": {
      "text/plain": [
       "RandomForestClassifier(bootstrap=True, class_weight=None, criterion='gini',\n",
       "            max_depth=None, max_features='auto', max_leaf_nodes=None,\n",
       "            min_impurity_decrease=0.0, min_impurity_split=None,\n",
       "            min_samples_leaf=1, min_samples_split=2,\n",
       "            min_weight_fraction_leaf=0.0, n_estimators=10, n_jobs=1,\n",
       "            oob_score=False, random_state=12, verbose=0, warm_start=False)"
      ]
     },
     "execution_count": 69,
     "metadata": {},
     "output_type": "execute_result"
    }
   ],
   "source": [
    "from sklearn.ensemble import RandomForestClassifier\n",
    "\n",
    "clf = RandomForestClassifier(random_state=12)\n",
    "clf.fit(x_train_res,y_train_res)"
   ]
  },
  {
   "cell_type": "markdown",
   "metadata": {},
   "source": [
    "### Metric Evaluation"
   ]
  },
  {
   "cell_type": "code",
   "execution_count": 70,
   "metadata": {},
   "outputs": [
    {
     "name": "stdout",
     "output_type": "stream",
     "text": [
      "Confusion Matrix\n",
      " [[18482   272]\n",
      " [  743   456]]\n",
      "Precision is 0.6263736263736264\n",
      "Recall is 0.3803169307756464\n",
      "Accuracy is 94.91304565729465\n"
     ]
    }
   ],
   "source": [
    "from sklearn.metrics import confusion_matrix\n",
    "\n",
    "tn, fp, fn, tp = confusion_matrix(y_val,clf.predict(x_val)).ravel()\n",
    "print(\"Confusion Matrix\\n {}\".format(confusion_matrix(y_val,clf.predict(x_val))))\n",
    "print(\"Precision is {}\".format(tp/(tp+fp)))\n",
    "print(\"Recall is {}\".format(tp/(tp+fn)))\n",
    "print(\"Accuracy is {}\".format((tp+tn)*100/(tp+fp+fn+tn)))"
   ]
  },
  {
   "cell_type": "code",
   "execution_count": 71,
   "metadata": {},
   "outputs": [
    {
     "data": {
      "text/plain": [
       "0.44822178218771325"
      ]
     },
     "execution_count": 71,
     "metadata": {},
     "output_type": "execute_result"
    }
   ],
   "source": [
    "from sklearn.metrics import cohen_kappa_score\n",
    "\n",
    "cohen_kappa_score(y_val,clf.predict(x_val))"
   ]
  },
  {
   "cell_type": "code",
   "execution_count": 72,
   "metadata": {},
   "outputs": [
    {
     "data": {
      "text/plain": [
       "0.97923056875363368"
      ]
     },
     "execution_count": 72,
     "metadata": {},
     "output_type": "execute_result"
    }
   ],
   "source": [
    "from sklearn.metrics import accuracy_score\n",
    "\n",
    "accuracy_score(Y_test,clf.predict(X_test))"
   ]
  },
  {
   "cell_type": "markdown",
   "metadata": {},
   "source": [
    "### Naive Bayes using 10 fold cross validation"
   ]
  },
  {
   "cell_type": "code",
   "execution_count": 73,
   "metadata": {},
   "outputs": [
    {
     "data": {
      "text/plain": [
       "GaussianNB(priors=None)"
      ]
     },
     "execution_count": 73,
     "metadata": {},
     "output_type": "execute_result"
    }
   ],
   "source": [
    "from sklearn.naive_bayes import GaussianNB\n",
    "from sklearn.model_selection import cross_validate\n",
    "gnb = GaussianNB()\n",
    "\n",
    "gnb.fit(x_train_res,y_train_res)"
   ]
  },
  {
   "cell_type": "code",
   "execution_count": 74,
   "metadata": {
    "collapsed": true
   },
   "outputs": [],
   "source": [
    "Y_pred=gnb.predict(x_val)"
   ]
  },
  {
   "cell_type": "markdown",
   "metadata": {},
   "source": [
    "### Metric Evaluation"
   ]
  },
  {
   "cell_type": "code",
   "execution_count": 75,
   "metadata": {},
   "outputs": [
    {
     "name": "stdout",
     "output_type": "stream",
     "text": [
      "Confusion Matrix\n",
      " [[14444  4310]\n",
      " [  174  1025]]\n",
      "Precision is 0.19212746016869728\n",
      "Recall is 0.8548790658882403\n",
      "Accuracy is 77.52718889390067\n"
     ]
    }
   ],
   "source": [
    "from sklearn.metrics import confusion_matrix\n",
    "\n",
    "tn, fp, fn ,tp =confusion_matrix(y_val,Y_pred).ravel()\n",
    "print(\"Confusion Matrix\\n {}\".format(confusion_matrix(y_val,Y_pred)))\n",
    "print(\"Precision is {}\".format(tp/(tp+fp)))\n",
    "print(\"Recall is {}\".format(tp/(tp+fn)))\n",
    "print(\"Accuracy is {}\".format((tp+tn)*100/(tp+fp+fn+tn)))"
   ]
  },
  {
   "cell_type": "markdown",
   "metadata": {},
   "source": [
    "### SVM for with "
   ]
  },
  {
   "cell_type": "raw",
   "metadata": {},
   "source": [
    "from sklearn.svm import LinearSVC\n",
    "clf_rf = LinearSVC()\n",
    "clf_rf.fit(x_train_res, y_train_res)"
   ]
  },
  {
   "cell_type": "raw",
   "metadata": {},
   "source": [
    "from sklearn.metrics import recall_score\n",
    "\n",
    "print ('Validation Results')\n",
    "\n",
    "print (clf_rf.score(x_val, y_val))\n",
    "print (recall_score(y_val, clf_rf.predict(x_val)))\n",
    "print ('\\nTest Results')\n",
    "print (clf_rf.score(X_test, Y_test))\n",
    "print (recall_score(Y_test, clf_rf.predict(X_test)))"
   ]
  },
  {
   "cell_type": "markdown",
   "metadata": {
    "collapsed": true
   },
   "source": [
    "# Tuning with XGBoost"
   ]
  },
  {
   "cell_type": "code",
   "execution_count": 76,
   "metadata": {},
   "outputs": [
    {
     "name": "stderr",
     "output_type": "stream",
     "text": [
      "C:\\Users\\C5258370\\AppData\\Local\\Continuum\\Anaconda3\\lib\\site-packages\\sklearn\\cross_validation.py:41: DeprecationWarning: This module was deprecated in version 0.18 in favor of the model_selection module into which all the refactored classes and functions are moved. Also note that the interface of the new CV iterators are different from that of this module. This module will be removed in 0.20.\n",
      "  \"This module will be removed in 0.20.\", DeprecationWarning)\n",
      "C:\\Users\\C5258370\\AppData\\Local\\Continuum\\Anaconda3\\lib\\site-packages\\sklearn\\grid_search.py:42: DeprecationWarning: This module was deprecated in version 0.18 in favor of the model_selection module into which all the refactored classes and functions are moved. This module will be removed in 0.20.\n",
      "  DeprecationWarning)\n"
     ]
    }
   ],
   "source": [
    "from xgboost.sklearn import XGBClassifier\n",
    "import xgboost as xgb\n",
    "from sklearn import cross_validation, metrics   #Additional scklearn functions\n",
    "from sklearn.grid_search import GridSearchCV   #Perforing grid search"
   ]
  },
  {
   "cell_type": "code",
   "execution_count": 77,
   "metadata": {},
   "outputs": [],
   "source": [
    "xgb1 = XGBClassifier(\n",
    " learning_rate =0.1,\n",
    " n_estimators=500,\n",
    " max_depth=5,\n",
    " min_child_weight=1,\n",
    " gamma=0,\n",
    " subsample=0.8,\n",
    " colsample_bytree=0.8,\n",
    " objective= 'binary:logistic',\n",
    " nthread=4,\n",
    " \n",
    " scale_pos_weight=1,\n",
    " seed=27)\n",
    "\n",
    "#modelfit(xgb1, df_train,df_train_target, predictors)"
   ]
  },
  {
   "cell_type": "markdown",
   "metadata": {},
   "source": [
    "### Get number of Estimators using learning rate as 0.1"
   ]
  },
  {
   "cell_type": "code",
   "execution_count": null,
   "metadata": {},
   "outputs": [],
   "source": [
    "xgb_param = xgb1.get_xgb_params()\n",
    "cv_folds=10\n",
    "early_stopping_rounds=50\n",
    "\n",
    "xgtrain = xgb.DMatrix(x_train, label=y_train)\n",
    "\n",
    "cvresult=xgb.cv(xgb_param, xgtrain, num_boost_round=xgb1.get_params()['n_estimators'], nfold=cv_folds,metrics='auc', early_stopping_rounds=early_stopping_rounds)"
   ]
  },
  {
   "cell_type": "code",
   "execution_count": null,
   "metadata": {},
   "outputs": [],
   "source": [
    "#Number of estimators\n",
    "\n",
    "cvresult.shape[0]"
   ]
  },
  {
   "cell_type": "code",
   "execution_count": null,
   "metadata": {},
   "outputs": [],
   "source": [
    "xgb1.set_params(n_estimators=cvresult.shape[0])"
   ]
  },
  {
   "cell_type": "code",
   "execution_count": null,
   "metadata": {},
   "outputs": [],
   "source": [
    "#Fit the algorithm on the data\n",
    "xgb1.fit(x_train_res,y_train_res,eval_metric='auc')\n",
    "\n",
    "#Predict training set:\n",
    "dtrain_predictions = xgb1.predict(x_train_res)\n",
    "dtrain_predprob = xgb1.predict_proba(x_train_res)[:,1]\n",
    "\n",
    "#Predict  Validation Set:\n",
    "dtest_predictions = xgb1.predict(x_val)\n",
    "dtest_predprob = xgb1.predict_proba(x_val)[:,1]\n",
    "\n",
    "#Print model report for Train Data:\n",
    "print( \"\\nModel Report\")\n",
    "print( \"Accuracy : %.4g\" % metrics.accuracy_score(y_train_res, dtrain_predictions))\n",
    "print (\"AUC Score (Train): %f\" % metrics.roc_auc_score(y_train_res, dtrain_predprob))\n",
    "\n",
    "\n",
    "#Print model report for validation Data:\n",
    "print( \"\\nModel Report\")\n",
    "print( \"Accuracy : %.4g\" % metrics.accuracy_score(y_val, dtest_predictions))\n",
    "print (\"AUC Score (Test): %f\" % metrics.roc_auc_score(y_val, dtest_predprob))\n"
   ]
  },
  {
   "cell_type": "markdown",
   "metadata": {},
   "source": [
    "### In Xgboost we can also do the training using a dataframe directly"
   ]
  },
  {
   "cell_type": "raw",
   "metadata": {
    "collapsed": true
   },
   "source": [
    "predictors=list(df_train.columns)"
   ]
  },
  {
   "cell_type": "raw",
   "metadata": {},
   "source": [
    "xgb_param = xgb1.get_xgb_params()\n",
    "cv_folds=2\n",
    "early_stopping_rounds=50\n",
    "\n",
    "xgtrain = xgb.DMatrix(df_train[predictors].values, label=df_train_target.values)\n",
    "\n",
    "xgb.cv(xgb_param, xgtrain, num_boost_round=xgb1.get_params()['n_estimators'], nfold=cv_folds,metrics='auc', early_stopping_rounds=early_stopping_rounds)"
   ]
  },
  {
   "cell_type": "raw",
   "metadata": {
    "collapsed": true
   },
   "source": [
    "#Fit the algorithm on the data\n",
    "xgb1.fit(df_train[predictors],df_train_target,eval_metric='auc')\n",
    "\n",
    "#Predict training set:\n",
    "dtrain_predictions = xgb1.predict(df_train[predictors])\n",
    "dtrain_predprob = xgb1.predict_proba(df_train[predictors])[:,1]\n",
    "\n",
    "#Predict Test Set:\n",
    "dtest_predictions = xgb1.predict(x_val[predictors])\n",
    "dtest_predprob = xgb1.predict_proba(x_val[predictors])[:,1]\n",
    "\n",
    "#Print model report:\n",
    "print( \"\\nModel Report\")\n",
    "print( \"Accuracy : %.4g\" % metrics.accuracy_score(y_train.values, dtrain_predictions))\n",
    "print (\"AUC Score (Train): %f\" % metrics.roc_auc_score(y_train, dtrain_predprob))\n",
    "\n",
    "\n",
    "#Print model report:\n",
    "print( \"\\nModel Report\")\n",
    "print( \"Accuracy : %.4g\" % metrics.accuracy_score(y_val.values, dtest_predictions))\n",
    "print (\"AUC Score (Test): %f\" % metrics.roc_auc_score(y_val, dtest_predprob))\n",
    "\n",
    "\n",
    "feat_imp = pd.Series(xgb1.feature_importances_).sort_values(ascending=False)\n",
    "feat_imp.plot(kind='bar', title='Feature Importances')\n",
    "plt.ylabel('Feature Importance Score')"
   ]
  },
  {
   "cell_type": "markdown",
   "metadata": {},
   "source": [
    "### Generating feature importance based on f score"
   ]
  },
  {
   "cell_type": "code",
   "execution_count": null,
   "metadata": {},
   "outputs": [],
   "source": [
    "from xgboost import plot_importance\n",
    "\n",
    "plot_importance(xgb1)"
   ]
  },
  {
   "cell_type": "markdown",
   "metadata": {},
   "source": [
    "### Grid Search CV"
   ]
  },
  {
   "cell_type": "code",
   "execution_count": null,
   "metadata": {},
   "outputs": [],
   "source": [
    "param_test1 = {\n",
    " 'max_depth':list(range(10,15,2)),\n",
    " 'min_child_weight':list(range(5,10,2))\n",
    "}\n",
    "gsearch1 = GridSearchCV(estimator = XGBClassifier( learning_rate =0.1, n_estimators=301, max_depth=5,\n",
    " min_child_weight=1, gamma=0, subsample=0.8, colsample_bytree=0.8,\n",
    " objective= 'binary:logistic', nthread=4, scale_pos_weight=1, seed=27), \n",
    " param_grid = param_test1, scoring='roc_auc',n_jobs=4,iid=False, cv=5)\n",
    "\n",
    "gsearch1.fit(df_train[predictors],df_train_target)\n",
    "gsearch1.grid_scores_, gsearch1.best_params_, gsearch1.best_score_"
   ]
  },
  {
   "cell_type": "code",
   "execution_count": null,
   "metadata": {},
   "outputs": [],
   "source": [
    "from sklearn.metrics import confusion_matrix\n",
    "\n",
    "tn, fp, fn ,tp =confusion_matrix(y_val,dtest_predictions).ravel()\n",
    "print(\"Confusion Matrix\\n {}\".format(confusion_matrix(y_val,dtest_predictions)))\n",
    "print(\"Precision is {}\".format((tp*100)/(tp+fp)))\n",
    "print(\"Recall is {}\".format((tp*100)/(tp+fn)))\n",
    "print(\"Accuracy is {}\".format((tp+tn)*100/(tp+fp+fn+tn)))"
   ]
  },
  {
   "cell_type": "code",
   "execution_count": null,
   "metadata": {
    "collapsed": true
   },
   "outputs": [],
   "source": []
  }
 ],
 "metadata": {
  "anaconda-cloud": {},
  "kernelspec": {
   "display_name": "Python 3",
   "language": "python",
   "name": "python3"
  },
  "language_info": {
   "codemirror_mode": {
    "name": "ipython",
    "version": 3
   },
   "file_extension": ".py",
   "mimetype": "text/x-python",
   "name": "python",
   "nbconvert_exporter": "python",
   "pygments_lexer": "ipython3",
   "version": "3.6.1"
  }
 },
 "nbformat": 4,
 "nbformat_minor": 1
}
